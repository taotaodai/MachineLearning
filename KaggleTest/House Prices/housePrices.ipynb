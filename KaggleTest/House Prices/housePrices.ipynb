{
 "cells": [
  {
   "cell_type": "code",
   "execution_count": 8,
   "metadata": {},
   "outputs": [],
   "source": [
    "import pandas as pd\n",
    "import matplotlib.pyplot as plt\n",
    "import seaborn as sns\n",
    "import numpy as np\n",
    "from scipy.stats import norm\n",
    "from sklearn.preprocessing import StandardScaler\n",
    "from sklearn.linear_model import Lasso\n",
    "from sklearn.cluster import KMeans\n",
    "from sklearn.model_selection import cross_val_score, train_test_split\n",
    "from sklearn.linear_model import Ridge, RidgeCV, ElasticNet, LassoCV, LassoLarsCV\n",
    "from sklearn.kernel_ridge import KernelRidge\n",
    "from scipy import stats\n",
    "from scipy.stats import skew\n",
    "import warnings\n",
    "import xgboost\n",
    "\n",
    "warnings.filterwarnings('ignore')\n",
    "%matplotlib inline\n",
    "\n",
    "pd.set_option('display.max_columns',None)\n",
    "pd.set_option('display.max_rows', None)"
   ]
  },
  {
   "cell_type": "code",
   "execution_count": 35,
   "metadata": {
    "scrolled": true
   },
   "outputs": [],
   "source": [
    "train_df = pd.read_csv('data/train.csv')\n",
    "test_df = pd.read_csv('data/test.csv')\n",
    "\n",
    "combine = [train_df,test_df]"
   ]
  },
  {
   "cell_type": "code",
   "execution_count": 36,
   "metadata": {},
   "outputs": [
    {
     "data": {
      "text/plain": [
       "Index(['Id', 'MSSubClass', 'MSZoning', 'LotFrontage', 'LotArea', 'Street',\n",
       "       'Alley', 'LotShape', 'LandContour', 'Utilities', 'LotConfig',\n",
       "       'LandSlope', 'Neighborhood', 'Condition1', 'Condition2', 'BldgType',\n",
       "       'HouseStyle', 'OverallQual', 'OverallCond', 'YearBuilt', 'YearRemodAdd',\n",
       "       'RoofStyle', 'RoofMatl', 'Exterior1st', 'Exterior2nd', 'MasVnrType',\n",
       "       'MasVnrArea', 'ExterQual', 'ExterCond', 'Foundation', 'BsmtQual',\n",
       "       'BsmtCond', 'BsmtExposure', 'BsmtFinType1', 'BsmtFinSF1',\n",
       "       'BsmtFinType2', 'BsmtFinSF2', 'BsmtUnfSF', 'TotalBsmtSF', 'Heating',\n",
       "       'HeatingQC', 'CentralAir', 'Electrical', '1stFlrSF', '2ndFlrSF',\n",
       "       'LowQualFinSF', 'GrLivArea', 'BsmtFullBath', 'BsmtHalfBath', 'FullBath',\n",
       "       'HalfBath', 'BedroomAbvGr', 'KitchenAbvGr', 'KitchenQual',\n",
       "       'TotRmsAbvGrd', 'Functional', 'Fireplaces', 'FireplaceQu', 'GarageType',\n",
       "       'GarageYrBlt', 'GarageFinish', 'GarageCars', 'GarageArea', 'GarageQual',\n",
       "       'GarageCond', 'PavedDrive', 'WoodDeckSF', 'OpenPorchSF',\n",
       "       'EnclosedPorch', '3SsnPorch', 'ScreenPorch', 'PoolArea', 'PoolQC',\n",
       "       'Fence', 'MiscFeature', 'MiscVal', 'MoSold', 'YrSold', 'SaleType',\n",
       "       'SaleCondition', 'SalePrice'],\n",
       "      dtype='object')"
      ]
     },
     "execution_count": 36,
     "metadata": {},
     "output_type": "execute_result"
    }
   ],
   "source": [
    "# train_df.head()\n",
    "train_df.columns"
   ]
  },
  {
   "cell_type": "code",
   "execution_count": 3,
   "metadata": {
    "scrolled": true
   },
   "outputs": [
    {
     "data": {
      "text/plain": [
       "'category feature'"
      ]
     },
     "execution_count": 3,
     "metadata": {},
     "output_type": "execute_result"
    }
   ],
   "source": [
    "\"numerical feature\"\n",
    "# GrLivArea.地面以上居住面积（平方英尺）。线性分布。GrLivArea = 1stFlrSF + 2ndFlrSF + LowQualFinSF\n",
    "# 1stFlrSF.一楼面积（平方英尺）\n",
    "# 2ndFlrSF.二楼面积（平方英尺）\n",
    "# LowQualFinSF.低品质成品面积，这里可以认为除一二楼以外的楼层面积（平方英尺）\n",
    "\n",
    "# TotRmsAbvGrd.房间总数\n",
    "# BedroomAbvGr.地下室以上的卧室数（个数）\n",
    "# KitchenAbvGr.地下室以上的厨房数（个数）\n",
    "# FullBath.浴室（个数）\n",
    "# HalfBath.半浴室（个数）\n",
    "\n",
    "# Fireplaces.壁炉的数量（个数）\n",
    "# WoodDeckSF.木质露天平台面积（平方英尺）\n",
    "# OpenPorchSF.敞廊面积（平方英尺）\n",
    "# EnclosedPorch.封闭廊道（平方英尺）\n",
    "# 3SsnPorch.三季门廊（平方英尺）\n",
    "# ScreenPorch.纱窗阳台（平方英尺）\n",
    "# PoolArea.泳池（平方英尺）\n",
    "# MiscVal.杂项（?）\n",
    "# MoSold.月销售（月份）\n",
    "# YrSold.年销售（年份）\n",
    "\n",
    "# GarageYrBlt.车库建造年份（年份）\n",
    "# GarageCars.车库容量（汽车辆数）\n",
    "# GarageArea.车库面积（平方英尺）\n",
    "\n",
    "# TotalBsmtSF.地下室的总面积（平方英尺）。TotalBsmtSF = BsmtFinSF1 + BsmtFinSF2 + BsmtUnfSF\n",
    "# BsmtFinSF1.第一地下室面积（平方英尺）\n",
    "# BsmtFinSF2.第二地下室面积（平方英尺）\n",
    "# BsmtUnfSF.未完工的地下室面积（平方英尺）\n",
    "\n",
    "# BsmtFullBath.地下室浴室（个数）\n",
    "# BsmtHalfBath.地下室半浴室（个数），这里可以为简易浴室，没有浴缸的那种\n",
    "\n",
    "# OverallQual.整体材料和成品质量\n",
    "# OverallCond.总体状况评级。从散点图中来看，和房价无明显关系\n",
    "# YearBuilt.原始施工日期\n",
    "# YearRemodAdd.?\n",
    "# MasVnrArea.砖石饰面面积(平方英尺)\n",
    "# MSSubClass.建筑类型。\n",
    "# LotFrontage.与物业相连的街道的线性英尺数\n",
    "# LotArea.地皮面积（平方英尺）\n",
    "\n",
    "\n",
    "\"category feature\"\n",
    "# MSZoning.?\n",
    "# Neighborhood.地段\n",
    "# Street.街道\n",
    "# Alley.巷\n",
    "# LotShape.地皮形状\n",
    "# LandContour.?\n",
    "# Utilities.?\n",
    "# Condition1.靠近主要道路或铁路\n",
    "# Condition2.靠近主要道路或铁路-第二条\n",
    "# BldgType.住宅类型\n",
    "# HouseStyle.住宅样式\n",
    "# RoofStyle.屋顶样式\n",
    "# RoofMatl.屋顶材料\n",
    "# Exterior1st.房屋外覆盖层\n",
    "# Exterior2nd.房屋外部覆盖层-如果不止一种材料\n",
    "# MasVnrType.表层砌体类型\n",
    "# ExterQual.外观材料质量\n",
    "# ExterCond.外部材料的现状\n",
    "# Foundation.?\n",
    "# BsmtQual.地下室材料质量\n",
    "# BsmtCond.地下室材料的现状\n",
    "# BsmtExposure.步行或花园级地下室墙壁\n",
    "# BsmtFinType1.已完成地下室一质量\n",
    "# BsmtFinType2.已完成地下室二质量\n",
    "# Heating.暖气装置类型\n",
    "# HeatingQC.暖气装置现状\n",
    "# CentralAir.中央空调\n",
    "# Electrical.电器系统\n",
    "# KitchenQual.厨房质量\n",
    "# Functional.家庭功能评分\n",
    "# FireplaceQu.壁炉质量\n",
    "# GarageType.车库位置\n",
    "# GarageFinish.车库内部装修\n",
    "# GarageQual.车库质量\n",
    "# GarageCond.车库现状\n",
    "# PavedDrive.铺砌车道\n",
    "# PoolQC.泳池质量\n",
    "# Fence.栅栏质量\n",
    "# MiscFeature.其他类别未涵盖的其他功能\n",
    "# SaleType.销售类型\n",
    "# SaleCondition.销售情况\n",
    "\n",
    "# 热力图\n",
    "# corrmat = train_df.corr()\n",
    "# f,ax = plt.subplots(figsize=(12,12))\n",
    "# # sns.heatmap(corrmat,vmax=.8,square=True)\n",
    "# # 关联系数最大的前10个feature\n",
    "# k = 10\n",
    "# cols = corrmat.nlargest(k,'SalePrice')['SalePrice'].index\n",
    "# cm = np.corrcoef(train_df[cols].values.T)\n",
    "# sns.set(font_scale=1.25)\n",
    "# hm = sns.heatmap(cm, cbar=True, annot=True, square=True, fmt='.2f', annot_kws={'size': 10}, yticklabels=cols.values, xticklabels=cols.values)\n",
    "\n",
    "\n",
    "# y = train_df.SalePrice\n",
    "# train_labels = y.values.copy\n",
    "\n",
    "# print(y.describe())\n",
    "# sns.distplot(y)\n",
    "# print(y.skew())\n",
    "# print(y.kurt())\n"
   ]
  },
  {
   "cell_type": "code",
   "execution_count": 12,
   "metadata": {},
   "outputs": [],
   "source": [
    "# 筛选出numerical feature和category feature\n",
    "num_f = [f for f in train_df.columns if train_df.dtypes[f] != 'object']\n",
    "num_f.pop()\n",
    "# print(len(num_f))\n",
    "\n",
    "category_f = [f for f in train_df.columns if train_df.dtypes[f] == 'object']\n",
    "# print(len(category_f))"
   ]
  },
  {
   "cell_type": "code",
   "execution_count": 5,
   "metadata": {},
   "outputs": [
    {
     "data": {
      "text/plain": [
       "'箱图'"
      ]
     },
     "execution_count": 5,
     "metadata": {},
     "output_type": "execute_result"
    }
   ],
   "source": [
    "# 各地上楼层的面积关系\n",
    "# train_df[(train_df['GrLivArea'] == train_df['1stFlrSF'] + train_df['2ndFlrSF'] + train_df['LowQualFinSF'])][['GrLivArea','1stFlrSF','2ndFlrSF']]\n",
    "\n",
    "# 各地下室面积关系\n",
    "# train_df[(train_df['TotalBsmtSF'] == train_df['BsmtFinSF1'] + train_df['BsmtFinSF2'] + train_df['BsmtUnfSF'])][['TotalBsmtSF','BsmtFinSF1','BsmtFinSF2','BsmtUnfSF']]\n",
    "\n",
    "# train_df[['LotArea','1stFlrSF']]\n",
    "\n",
    "\"散点图\"\n",
    "# var = 'OverallQual'\n",
    "# data = pd.concat([train_df.SalePrice,train_df[var]],axis=1)\n",
    "# data.plot.scatter(x=var,y='SalePrice');\n",
    "\n",
    "\"箱图\"\n",
    "# var = 'Neighborhood'\n",
    "# data = pd.concat([train_df['SalePrice'], train_df[var]], axis=1)\n",
    "# f, ax = plt.subplots(figsize=(8, 6))\n",
    "# fig = sns.boxplot(x=var, y=\"SalePrice\", data=data)\n",
    "# fig.axis(ymin=0, ymax=800000);\n",
    "# plt.xticks(rotation=90)\n",
    "\n",
    "# def jointplot(x,y,**kwargs):\n",
    "#     try:\n",
    "#         sns.regplot(x=x,y=y)\n",
    "#     except Exception:\n",
    "#         print(x.value_counts())\n",
    "# f = pd.melt(train_df,id_vars=['SalePrice'],value_vars=num_f)\n",
    "# g = sns.FacetGrid(f,col='variable',col_wrap=3,sharex=False,sharey=False,size=5)\n",
    "# # 对所有numerical数据做线性回归拟合\n",
    "# g = g.map(jointplot,'value','SalePrice')\n"
   ]
  },
  {
   "cell_type": "code",
   "execution_count": 13,
   "metadata": {
    "scrolled": true
   },
   "outputs": [],
   "source": [
    "# var = 'GrLivArea'\n",
    "# data = pd.concat([train_df['SalePrice'], train_df[var]], axis=1)\n",
    "# data.plot.scatter(x=var, y='SalePrice', ylim=(0,800000))\n",
    "\n",
    "# 观察GrLivArea的散点图发现：\n",
    "# 居住面积与价格呈明显的线性关系，例外是右下角两个点，面积大，售价低，不符合实际规律，可将其去掉\n",
    "train_df.drop(train_df[(train_df['GrLivArea']>4000)&(train_df.SalePrice<300000)].index,inplace=True)"
   ]
  },
  {
   "cell_type": "code",
   "execution_count": 7,
   "metadata": {},
   "outputs": [],
   "source": [
    "\n",
    "# def boxplot(x, y, **kwargs):\n",
    "#     sns.boxplot(x=x, y=y)\n",
    "#     x=plt.xticks(rotation=90)\n",
    "\n",
    "# f = pd.melt(train_df, id_vars=['SalePrice'], value_vars=category_f)\n",
    "# g = sns.FacetGrid(f, col=\"variable\",  col_wrap=3, sharex=False,sharey=False,size=5)\n",
    "# g = g.map(boxplot, \"value\", \"SalePrice\") \n"
   ]
  },
  {
   "cell_type": "code",
   "execution_count": 14,
   "metadata": {},
   "outputs": [
    {
     "data": {
      "image/png": "[encoded data removed]",
      "text/plain": [
       "<Figure size 432x288 with 1 Axes>"
      ]
     },
     "metadata": {
      "needs_background": "light"
     },
     "output_type": "display_data"
    }
   ],
   "source": [
    "# 单因素方差分析。各个category feature和SalePrice的相关性\n",
    "def anova(frame):\n",
    "    anv = pd.DataFrame()\n",
    "    anv['feature'] = category_f\n",
    "    pvals = []\n",
    "    for c in category_f:\n",
    "        samples = []\n",
    "        for cls in frame[c].unique():\n",
    "            s = frame[frame[c] == cls]['SalePrice'].values\n",
    "            samples.append(s)\n",
    "        pval = stats.f_oneway(*samples)[1]\n",
    "#         if pval< 0.01 : print(\"%s %s\"%(c,pval))\n",
    "        pvals.append(pval)\n",
    "    anv['pval'] = pvals\n",
    "    return anv.sort_values('pval')\n",
    "\n",
    "a = anova(train_df)\n",
    "a['disparity'] = np.log(1./a['pval'].values)\n",
    "sns.barplot(data=a, x='feature', y='disparity')\n",
    "x=plt.xticks(rotation=90)\n"
   ]
  },
  {
   "cell_type": "code",
   "execution_count": 15,
   "metadata": {},
   "outputs": [
    {
     "data": {
      "image/png": "[encoded data removed]",
      "text/plain": [
       "<Figure size 432x288 with 1 Axes>"
      ]
     },
     "metadata": {
      "needs_background": "light"
     },
     "output_type": "display_data"
    }
   ],
   "source": [
    "var = 'Neighborhood'\n",
    "data = pd.concat([train_df['SalePrice'], train_df[var]], axis=1)\n",
    "fig = sns.boxplot(x=var, y=\"SalePrice\", data=data)\n",
    "fig.axis(ymin=0, ymax=800000)\n",
    "plt.xticks(rotation=90)\n",
    "\n",
    "# 使用K-Means方法对地段进行聚类\n",
    "data = data.groupby(by='Neighborhood').SalePrice.mean()\n",
    "location = np.array(data.index)\n",
    "price_lo = np.array(data.values).reshape(-1,1)\n",
    "# 对每个地段的平均售价分为3类\n",
    "km = KMeans(n_clusters=3)\n",
    "label = km.fit_predict(price_lo)\n",
    "expense = np.sum(km.cluster_centers_,axis=1)\n",
    "CityCluster = [[],[],[]]\n",
    "for i in range(len(location)):\n",
    "    CityCluster[label[i]].append(location[i])\n",
    "# for i in range(len(CityCluster)):\n",
    "#     print(\"Expense:%.2f\" % expense[i])\n",
    "#     print(CityCluster[i])\n",
    "# for i in range(len(expense)):\n",
    "#     print(\"Ratio:%.1f\"%(expense[i]/sum(expense)))\n",
    "nei_average = pd.Series(CityCluster[0]).drop_duplicates()\n",
    "nei_exp = pd.Series(CityCluster[1]).drop_duplicates()\n",
    "nei_cheap = pd.Series(CityCluster[2]).drop_duplicates()\n",
    "\n",
    "nei_dict = dict()\n",
    "new1 = dict()\n",
    "new2 = dict()\n",
    "nei_dict = nei_dict.fromkeys(['NoRidge', 'NridgHt', 'StoneBr'],5)\n",
    "new1 = new1.fromkeys(['Blueste', 'BrDale', 'BrkSide', 'Edwards', \n",
    "                              'IDOTRR', 'MeadowV', 'Mitchel', 'NAmes', 'NPkVill', \n",
    "                              'OldTown', 'SWISU', 'Sawyer'],2)\n",
    "new2 = new2.fromkeys(['Blmngtn', 'ClearCr', 'CollgCr', 'Crawfor', 'Gilbert',\n",
    "                              'NWAmes', 'SawyerW', 'Somerst', 'Timber', 'Veenker'],3)\n",
    "nei_dict.update(new1)\n",
    "nei_dict.update(new2)"
   ]
  },
  {
   "cell_type": "code",
   "execution_count": 16,
   "metadata": {},
   "outputs": [],
   "source": [
    "# 处理缺失值\n",
    "NAs = pd.concat([train_df.isnull().sum(),train_df.isnull().sum()/train_df.isnull().count(),test_df.isnull().sum(),test_df.isnull().sum()/test_df.isnull().count()],axis=1,keys=[\"train\",\"percent_train\",\"test\",\"percent\"])\n",
    "NAs[NAs.sum(axis=1)>1].sort_values(by=\"percent\",ascending=False)\n",
    "\n",
    "all_data = pd.concat([train_df,test_df],keys=[\"train\",\"test\"])\n",
    "\n",
    "missing_col_NA = [\"Alley\",\"MasVnrType\",\"FireplaceQu\",\"GarageType\",\"PoolQC\",\"Fence\",\n",
    "                   \"MiscFeature\",\"GarageQual\",\"GarageCond\",\"GarageFinish\"]\n",
    "missing_col_0 = [\"MasVnrArea\",\"GarageCars\",\"GarageArea\"]\n",
    "# 缺失即为没有的用“NA”来填充,数值类型补充为0\n",
    "for col in missing_col_NA:\n",
    "     all_data[col].fillna(\"NA\",inplace=True)    \n",
    "for col in missing_col_0:\n",
    "    all_data[col].fillna(0,inplace=True)\n",
    "# 有的缺失数值可以用平均值，众数来补充\n",
    "    missing_col_mode = [\"MSZoning\",\"KitchenQual\",\"Functional\",\"SaleType\",\"Electrical\",\"Exterior1st\",\"Exterior2nd\"]\n",
    "for col in missing_col_mode:\n",
    "    all_data[col].fillna(all_data[col].mode()[0],inplace=True)\n",
    "all_data[\"LotFrontage\"] = all_data.groupby(\"Neighborhood\")[\"LotFrontage\"].apply(lambda x:x.fillna(x.median()))\n",
    "\n",
    "#由于缺失值的个数是不一样的，所以只有BsmtCond和BsmtQual同时缺失，才将其认为是没有地下室的。\n",
    "NoBmstIndex = (pd.isnull(all_data[\"BsmtCond\"])==True)&(pd.isnull(all_data[\"BsmtQual\"])==True)\n",
    "all_data.loc[NoBmstIndex,\"BsmtCond\"] =all_data.loc[NoBmstIndex,\"BsmtCond\"].fillna(\"NA\")\n",
    "all_data.loc[NoBmstIndex,\"BsmtQual\"] =all_data.loc[NoBmstIndex,\"BsmtQual\"].fillna(\"NA\")\n",
    "all_data.loc[NoBmstIndex,\"BsmtExposure\"] =all_data.loc[NoBmstIndex,\"BsmtExposure\"].fillna(\"NA\")\n",
    "\n",
    "#其余的用众数来填充\n",
    "all_data.BsmtCond.fillna(all_data.BsmtCond.mode()[0],inplace=True)\n",
    "all_data.BsmtQual.fillna(all_data.BsmtQual.mode()[0],inplace=True)\n",
    "all_data.BsmtExposure.fillna(all_data.BsmtExposure.mode()[0],inplace=True)\n",
    "\n",
    "all_data.BsmtFinSF1.fillna(0,inplace=True)\n",
    "all_data.BsmtFinSF2.fillna(0,inplace=True)\n",
    "all_data.BsmtFinType1.fillna(\"NA\",inplace=True)\n",
    "all_data.BsmtFinType2.fillna(\"NA\",inplace=True)\n",
    "\n",
    "#要将没有地下室和地下室未完成的面积区分开，所以如果是未完成的，将其面积设为中位数\n",
    "all_data.loc[all_data[\"BsmtFinType1\"]==\"Unf\",\"BsmtFinSF1\"]=all_data.BsmtFinSF1.median()\n",
    "all_data.loc[all_data[\"BsmtFinType2\"]==\"Unf\",\"BsmtFinSF2\"]=all_data.BsmtFinSF1.median()\n",
    "\n",
    "all_data.BsmtUnfSF.fillna(0,inplace=True)\n",
    "all_data.TotalBsmtSF.fillna(0,inplace=True)\n",
    "\n",
    "all_data.BsmtFullBath.fillna(0, inplace=True)\n",
    "all_data.BsmtHalfBath.fillna(0, inplace=True)\n",
    "\n",
    "'''\n",
    "另外还有如Exterior1st 和 Exterior2nd 这样的属性，表示房子外墙的材料类型，如果有两种，\n",
    "第二个才会有值，但是观察发现有很多第二个跟第一个是一样的，所以将第二个跟第一个一样的Exterior2nd\n",
    "设为None， 同理Condition1和Condition2也是这样.\n",
    "'''\n",
    "all_data.loc[all_data[\"Exterior1st\"]==all_data[\"Exterior2nd\"],\"Exterior2nd\"]=\"None\"\n",
    "all_data.loc[all_data[\"Condition1\"]==all_data[\"Condition2\"],\"Condition2\"]=\"None\"\n",
    "\n",
    "#Utilities 的取值单一，没有太大意义，故直接将其删除。\n",
    "all_data.Utilities.value_counts()\n",
    "all_data.drop('Utilities',axis=1, inplace=True)\n",
    "\n",
    "# 删除不用特征\n",
    "all_data.drop([\"GarageArea\",\"GarageYrBlt\",\"MiscFeature\",\"Fence\",\"LotFrontage\",\n",
    "               \"Street\",\"SaleType\",\"FullBath\",\"1stFlrSF\",\"MasVnrArea\",\"MasVnrType\"],\n",
    "             axis=1,inplace=True)"
   ]
  },
  {
   "cell_type": "code",
   "execution_count": 17,
   "metadata": {},
   "outputs": [],
   "source": [
    "# 特征工程\n",
    "# 添加新feature HouseStypeFinish，用来记录住房是否完成。0 -> 未完成；1 -> 已完成\n",
    "Unf=['2.5Unf','1.5Unf']\n",
    "all_data[\"HouseStypeFinish\"]=all_data[\"HouseStyle\"].map(lambda x:0 if x in Unf else 1)\n",
    "\n",
    "# 添加新feature TotalSF。用来记录房屋总面积\n",
    "all_data['TotalSF'] = all_data['TotalBsmtSF'] + all_data['BsmtFinSF1'] + all_data['BsmtFinSF2'] \n",
    "\n",
    "# Quality map 把所有Quality特征转为numerical\n",
    "qual_dict = { 'NA':0,'Po':1,'Fa':2,'TA':3,'Gd':4,'Ex':5}\n",
    "all_data[\"ExterQual\"] = all_data[\"ExterQual\"].map(qual_dict).astype(int)\n",
    "all_data[\"ExterCond\"] = all_data[\"ExterCond\"].map(qual_dict).astype(int)\n",
    "all_data[\"BsmtQual\"] = all_data[\"BsmtQual\"].map(qual_dict).astype(int)\n",
    "all_data[\"BsmtCond\"] = all_data[\"BsmtCond\"].map(qual_dict).astype(int)\n",
    "all_data[\"HeatingQC\"] = all_data[\"HeatingQC\"].map(qual_dict).astype(int)\n",
    "all_data[\"KitchenQual\"] = all_data[\"KitchenQual\"].map(qual_dict).astype(int)\n",
    "all_data[\"FireplaceQu\"] = all_data[\"FireplaceQu\"].map(qual_dict).astype(int)\n",
    "all_data[\"GarageQual\"] = all_data[\"GarageQual\"].map(qual_dict).astype(int)\n",
    "all_data[\"GarageCond\"] = all_data[\"GarageCond\"].map(qual_dict).astype(int)\n",
    "all_data['PoolQC'] = all_data.PoolQC.replace({'NA':0,'Fa':1,'TA':2,'Gd':3,'Ex':4})\n",
    "\n",
    "#basement finish type map dictionary\n",
    "bsmt_fin_dict = {'NA': 0, \"Unf\": 1, \"LwQ\": 2, \"Rec\": 3, \"BLQ\": 4, \"ALQ\": 5, \"GLQ\": 6}\n",
    "all_data[\"BsmtFinType1\"] = all_data[\"BsmtFinType1\"].map(bsmt_fin_dict).astype(int)\n",
    "all_data[\"BsmtFinType2\"] = all_data[\"BsmtFinType2\"].map(bsmt_fin_dict).astype(int)\n",
    "all_data['BsmtExposure'] = all_data.BsmtExposure.replace({'NA':0,'No':1,'Mn':2,'Av':3,'Gd':4})\n",
    "\n",
    "#other feature has obvious level category\n",
    "#all_data['BsmtExposure'] = all_data.BsmtExposure.replace({'NA':0,'No':1,'Mn':2,'Av':3,'Gd':4})\n",
    "\n",
    "all_data['CentralAir'] = all_data.CentralAir.replace({'N':0,'Y':1})\n",
    "all_data['GarageFinish'] = all_data.GarageFinish.replace({'NA':0,'Unf':1,'Rfn':2,'Fin':3})\n",
    "all_data['GarageType'] = all_data.GarageType.replace({'NA':0,'Detchd':1,'CarPort':2,\n",
    "                                                      'BuiltIn':3,'Basment':4,'Attchd':5,\n",
    "                                                     '2Types':6})\n",
    "all_data['Alley'] = all_data.Alley.replace({'NA':0,'Pave':1,'Grvl':2})\n",
    "all_data['GarageFinish'] = all_data.GarageFinish.replace({'NA':0,'Unf':1,'RFn':2,'Fin':3})\n",
    "\n",
    "#Neighborhood map  根据上面的nei_dict，把所有Neighborhood映射为3类\n",
    "all_data['Neighborhood']=all_data['Neighborhood'].map(nei_dict).astype(int)\n",
    "\n",
    "# new or old house\n",
    "all_data[\"Age\"] = 2010 - all_data[\"YearBuilt\"]\n",
    "# if house is remodeled\n",
    "all_data['Remolded'] = (all_data[\"YearRemodAdd\"] != all_data[\"YearBuilt\"]) * 1\n",
    "# time since remodeled\n",
    "all_data['AgeSinceRem'] = 2010-all_data['YearRemodAdd']\n",
    "all_data['New'] = ((all_data[\"YearBuilt\"] == all_data[\"YrSold\"]))*1\n",
    "all_data['New'] = ((all_data[\"YearRemodAdd\"] == all_data[\"YrSold\"]))*1"
   ]
  },
  {
   "cell_type": "code",
   "execution_count": 18,
   "metadata": {
    "scrolled": true
   },
   "outputs": [],
   "source": [
    "# 根据特征的每个类型房价均值从低到高把类型分为1,2,3等等\n",
    "def encode(frame, feature):\n",
    "    '''\n",
    "    对所有类型变量，依照各个类型变量的不同取值对应的样本集内房价的均值，按照房价均值高低\n",
    "    对此变量的当前取值确定其相对数值1,2,3,4等等，相当于对类型变量赋值使其成为连续变量。\n",
    "    注意：此函数会直接在原frame的DataFrame内创建新的一列来存放feature编码后的值。\n",
    "    '''\n",
    "    ordering = pd.DataFrame()\n",
    "    ordering['val'] = frame[feature].unique()\n",
    "    ordering.index = ordering.val\n",
    "    ordering['price_mean'] = frame[[feature, 'SalePrice']].groupby(feature).mean()['SalePrice']\n",
    "    # 上述 groupby()操作可以将某一feature下同一取值的数据整个到一起，结合mean()可以直接得到该特征不同取值的房价均值\n",
    "    ordering = ordering.sort_values('price_mean')\n",
    "    ordering['order'] = range(1, ordering.shape[0]+1)\n",
    "    ordering = ordering['order'].to_dict()\n",
    "#     print(ordering.items())\n",
    "    for attr_v, score in ordering.items():\n",
    "        # e.g. qualitative[2]: {'Grvl': 1, 'MISSING': 3, 'Pave': 2}\n",
    "        frame.loc[frame[feature] == attr_v, feature+'_E'] = score\n",
    "\n",
    "category_encoded = []\n",
    "# 由于category集合中包含了非数值型变量和伪数值型变量（多为评分、等级等，其取值为1,2,3,4等等）两类\n",
    "# 因此只需要对非数值型变量进行encode()处理。\n",
    "# 如果采用One-Hot编码，则整个qualitative的特征都要进行pd.get_dummies()处理\n",
    "category_left = ['BldgType','Condition1','Condition2','Electrical','Exterior1st',\n",
    "                'Exterior2nd','Foundation','Functional','Heating','HouseStyle',\n",
    "                'LandContour','LandSlope','LotConfig','LotShape','MSZoning',\n",
    "                'PavedDrive','RoofMatl','RoofStyle','SaleCondition']\n",
    "for q in category_left:\n",
    "    encode(all_data, q)\n",
    "    category_encoded.append(q+'_E')\n",
    "all_data.drop(category_left, axis=1, inplace=True)  # 离散变量已经有了编码后的新变量，因此删去原变量\n",
    "\n",
    "# print(category_encoded)\n",
    "# print(len(category_encoded))\n"
   ]
  },
  {
   "cell_type": "code",
   "execution_count": 19,
   "metadata": {},
   "outputs": [],
   "source": [
    "all_data.YrSold = all_data.YrSold.astype(str)\n",
    "all_data.MoSold = all_data.MoSold.astype(str)\n",
    "all_data.MSSubClass = all_data.MSSubClass.astype(str)\n",
    "\n",
    "# all_data.HalfBath = all_data.HalfBath.astype(str)\n",
    "# all_data.BedroomAbvGr = all_data.BedroomAbvGr.astype(str)\n",
    "#all_data.GarageCars = all_data.GarageCars.astype(str)\n"
   ]
  },
  {
   "cell_type": "code",
   "execution_count": 20,
   "metadata": {},
   "outputs": [],
   "source": [
    "num_new = [f for f in all_data.columns if all_data.dtypes[f] != 'object']\n",
    "category_new = [f for f in all_data.columns if all_data.dtypes[f] == 'object']\n",
    "# print(num_new)\n",
    "# print(category_new)\n",
    "# print(len(num_new))\n",
    "# print(len(category_new))\n"
   ]
  },
  {
   "cell_type": "code",
   "execution_count": 21,
   "metadata": {},
   "outputs": [
    {
     "data": {
      "image/png": "[encoded data removed]",
      "text/plain": [
       "<Figure size 432x1296 with 1 Axes>"
      ]
     },
     "metadata": {
      "needs_background": "light"
     },
     "output_type": "display_data"
    }
   ],
   "source": [
    "#特征互相关分析与选取相关分析与选取\n",
    "def spearman(frame, features):\n",
    "    '''\n",
    "    采用“斯皮尔曼等级相关”来计算变量与房价的相关性(可查阅百科)\n",
    "    此相关系数简单来说，可以对上述数值化处理后的等级变量及其它与房价的相关性进行更好的评价\n",
    "    （特别是对于非线性关系）\n",
    "    '''\n",
    "    spr = pd.DataFrame()\n",
    "    spr['feature'] = features\n",
    "    spr['corr'] = [frame[f].corr(frame['SalePrice'], 'spearman') for f in features]\n",
    "    spr = spr.sort_values('corr')\n",
    "    plt.figure(figsize=(6, 0.25*len(features)))\n",
    "    sns.barplot(data=spr, y='feature', x='corr', orient='h')    \n",
    "#features = num_data + category_encoded\n",
    "spearman(all_data, num_new)\n"
   ]
  },
  {
   "cell_type": "code",
   "execution_count": 22,
   "metadata": {},
   "outputs": [
    {
     "name": "stdout",
     "output_type": "stream",
     "text": [
      "Skewness: 0.121580\n",
      "Kurtosis: 0.804751\n"
     ]
    },
    {
     "data": {
      "image/png": "[encoded data removed]",
      "text/plain": [
       "<Figure size 432x288 with 1 Axes>"
      ]
     },
     "metadata": {
      "needs_background": "light"
     },
     "output_type": "display_data"
    }
   ],
   "source": [
    "\n",
    "# 对一些数值特征进行对数变换\n",
    "#log transform the target use log(1+x)\n",
    "train_df[\"SalePrice\"] = np.log1p(train_df[\"SalePrice\"])\n",
    "sns.distplot(train_df['SalePrice'])\n",
    "print(\"Skewness: %f\" % train_df['SalePrice'].skew())\n",
    "print(\"Kurtosis: %f\" % train_df['SalePrice'].kurt())\n",
    "y = train_df.SalePrice\n",
    "train_labels = y.values.copy\n",
    "all_data.drop('SalePrice',axis=1,inplace=True)\n"
   ]
  },
  {
   "cell_type": "code",
   "execution_count": 23,
   "metadata": {},
   "outputs": [],
   "source": [
    "#log transform skewed numeric features:\n",
    "numeric_feats = all_data.dtypes[all_data.dtypes != \"object\"].index\n",
    "\n",
    "skewed_feats = all_data[numeric_feats].apply(lambda x: skew(x.dropna())) #compute skewness\n",
    "skewed_feats = skewed_feats[skewed_feats > 0.75]\n",
    "skewed_feats = skewed_feats.index\n",
    "\n",
    "all_data[skewed_feats] = np.log1p(all_data[skewed_feats])\n"
   ]
  },
  {
   "cell_type": "code",
   "execution_count": 24,
   "metadata": {},
   "outputs": [],
   "source": [
    "# Create dummy features for categorical values via one-hot encoding\n",
    "for col in category_new:\n",
    "    for_dummy = all_data.pop(col)\n",
    "    extra_data = pd.get_dummies(for_dummy,prefix=col)\n",
    "    all_data = pd.concat([all_data, extra_data],axis=1)\n"
   ]
  },
  {
   "cell_type": "code",
   "execution_count": null,
   "metadata": {},
   "outputs": [],
   "source": [
    "\n"
   ]
  },
  {
   "cell_type": "code",
   "execution_count": 25,
   "metadata": {},
   "outputs": [
    {
     "name": "stdout",
     "output_type": "stream",
     "text": [
      "New number of features : 104\n",
      "train:(1458, 104)\n",
      "test:(1459, 104)\n",
      "1458\n"
     ]
    }
   ],
   "source": [
    "# 注意对数据的标准化要用到所有数据中，包括训练集和测试集。\n",
    "N = StandardScaler()\n",
    "scal_all_data = N.fit_transform(all_data)\n",
    "\n",
    "print(\"New number of features : \" + str(all_data.shape[1]))\n",
    "train_all_data = scal_all_data[:train_df.shape[0]]\n",
    "test_all_data = scal_all_data[train_df.shape[0]:]\n",
    "\n",
    "print(\"train:\" +str(train_all_data.shape))\n",
    "print(\"test:\" +str(test_all_data.shape))\n",
    "print(len(y))\n",
    "#test_all_data.tail()\n"
   ]
  },
  {
   "cell_type": "code",
   "execution_count": 26,
   "metadata": {},
   "outputs": [
    {
     "name": "stdout",
     "output_type": "stream",
     "text": [
      "X_train : (1020, 104)\n",
      "X_test : (438, 104)\n",
      "y_train : (1020,)\n",
      "y_test : (438,)\n"
     ]
    }
   ],
   "source": [
    "X_train, X_test, y_train, y_test = train_test_split(train_all_data, y,test_size = 0.3, random_state=0)\n",
    "print(\"X_train : \" + str(X_train.shape))\n",
    "print(\"X_test : \" + str(X_test.shape))\n",
    "print(\"y_train : \" + str(y_train.shape))\n",
    "print(\"y_test : \" + str(y_test.shape))\n"
   ]
  },
  {
   "cell_type": "code",
   "execution_count": 27,
   "metadata": {
    "scrolled": true
   },
   "outputs": [],
   "source": [
    "#对训练集和测试集分别进行交叉验证，得到error measure for official scoring : RMSE\n",
    "def rmse_cv(model):\n",
    "    rmse= np.sqrt(-cross_val_score(model, X_train, y_train, scoring=\"neg_mean_squared_error\", cv = 5))\n",
    "    return(rmse)\n",
    "def rmse_cv_test(model):\n",
    "    rmse= np.sqrt(-cross_val_score(model, X_test, y_test, scoring=\"neg_mean_squared_error\", cv = 5))\n",
    "    return(rmse)\n"
   ]
  },
  {
   "cell_type": "code",
   "execution_count": 28,
   "metadata": {},
   "outputs": [
    {
     "name": "stdout",
     "output_type": "stream",
     "text": [
      "Kernel Ridge score: 0.1197 (0.0107)\n",
      "\n",
      "Kernel Ridge score: 0.1252 (0.0102)\n",
      "\n"
     ]
    }
   ],
   "source": [
    "# 多项式回归\n",
    "KRR = KernelRidge(alpha=0.6, kernel='polynomial', degree=2, coef0=2.5)\n",
    "score = rmse_cv(KRR)\n",
    "score_test = rmse_cv_test(KRR)\n",
    "print(\"Kernel Ridge score: {:.4f} ({:.4f})\\n\".format(score.mean(), score.std()))\n",
    "print(\"Kernel Ridge score: {:.4f} ({:.4f})\\n\".format(score_test.mean(), score_test.std()))\n"
   ]
  },
  {
   "cell_type": "code",
   "execution_count": 33,
   "metadata": {},
   "outputs": [
    {
     "name": "stdout",
     "output_type": "stream",
     "text": [
      "Best alpha : 30.0\n",
      "Try again for more precision with alphas centered around 30.0\n",
      "Best alpha : 27.0\n",
      "Ridge RMSE on Training set : 0.11858967096694054\n",
      "Ridge RMSE on Test set : 0.12566988866475506\n"
     ]
    }
   ],
   "source": [
    "# 岭回归Ridge\n",
    "ridge = RidgeCV(alphas = [0.01, 0.03, 0.06, 0.1, 0.3, 0.6, 1, 3, 6, 10, 30, 60])\n",
    "ridge.fit(X_train, y_train)\n",
    "alpha = ridge.alpha_\n",
    "print(\"Best alpha :\", alpha)\n",
    "\n",
    "print(\"Try again for more precision with alphas centered around \" + str(alpha))\n",
    "ridge = RidgeCV(alphas = [alpha * .5,alpha * .55,alpha * .6, alpha * .65, alpha * .7, alpha * .75, alpha * .8, alpha * .85, \n",
    "                          alpha * .9, alpha * .95, alpha, alpha * 1.05, alpha * 1.1, alpha * 1.15,\n",
    "                          alpha * 1.25, alpha * 1.3, alpha * 1.35, alpha * 1.4], \n",
    "                cv = 10)\n",
    "ridge.fit(X_train, y_train)\n",
    "alpha = ridge.alpha_\n",
    "print(\"Best alpha :\", alpha)\n",
    "print(\"Ridge RMSE on Training set :\", rmse_cv(ridge).mean())\n",
    "print(\"Ridge RMSE on Test set :\", rmse_cv_test(ridge).mean())\n"
   ]
  },
  {
   "cell_type": "code",
   "execution_count": 34,
   "metadata": {},
   "outputs": [
    {
     "name": "stdout",
     "output_type": "stream",
     "text": [
      "Ridge picked 104 features and eliminated the other 0 features\n"
     ]
    },
    {
     "data": {
      "image/png": "[encoded data removed]",
      "text/plain": [
       "<Figure size 432x288 with 1 Axes>"
      ]
     },
     "metadata": {
      "needs_background": "light"
     },
     "output_type": "display_data"
    }
   ],
   "source": [
    "# Plot important coefficients\n",
    "coefs = pd.Series(ridge.coef_, index = all_data.columns)\n",
    "print(\"Ridge picked \" + str(sum(coefs != 0)) + \" features and eliminated the other \" +  \\\n",
    "      str(sum(coefs == 0)) + \" features\")\n",
    "imp_coefs = pd.concat([coefs.sort_values().head(10),\n",
    "                     coefs.sort_values().tail(10)])\n",
    "imp_coefs.plot(kind = \"barh\")\n",
    "plt.title(\"Coefficients in the Ridge Model\")\n",
    "plt.show()\n"
   ]
  },
  {
   "cell_type": "code",
   "execution_count": 35,
   "metadata": {},
   "outputs": [
    {
     "name": "stdout",
     "output_type": "stream",
     "text": [
      "Best alpha : 0.001\n",
      "Try again for more precision with alphas centered around 0.001\n",
      "Best alpha : 0.0014\n",
      "Lasso RMSE on Training set : 0.11655759019738651\n",
      "Lasso RMSE on Test set : 0.12368703093441624\n"
     ]
    }
   ],
   "source": [
    "#lasso = LassoCV(alphas = [0.0001, 0.0003, 0.0006, 0.001, 0.003, 0.006, 0.01, 0.03, 0.06, 0.1, \n",
    "#                         0.3, 0.6, 1], \n",
    "#                max_iter = 50000, cv = 10)\n",
    "lasso = LassoCV(alphas = [1, 0.1, 0.001, 0.0005])\n",
    "lasso.fit(X_train, y_train)\n",
    "alpha = lasso.alpha_\n",
    "print(\"Best alpha :\", alpha)\n",
    "\n",
    "print(\"Try again for more precision with alphas centered around \" + str(alpha))\n",
    "lasso = LassoCV(alphas = [alpha * .6, alpha * .65, alpha * .7, alpha * .75, alpha * .8, \n",
    "                          alpha * .85, alpha * .9, alpha * .95, alpha, alpha * 1.05, \n",
    "                          alpha * 1.1, alpha * 1.15, alpha * 1.25, alpha * 1.3, alpha * 1.35, \n",
    "                          alpha * 1.4], \n",
    "                max_iter = 50000, cv = 10)\n",
    "lasso.fit(X_train, y_train)\n",
    "alpha = lasso.alpha_\n",
    "print(\"Best alpha :\", alpha)\n",
    "\n",
    "print(\"Lasso RMSE on Training set :\", rmse_cv(lasso).mean())\n",
    "print(\"Lasso RMSE on Test set :\", rmse_cv_test(lasso).mean())\n"
   ]
  },
  {
   "cell_type": "code",
   "execution_count": 36,
   "metadata": {},
   "outputs": [
    {
     "name": "stdout",
     "output_type": "stream",
     "text": [
      "Lasso picked 75 features and eliminated the other 29 features\n"
     ]
    },
    {
     "data": {
      "image/png": "[encoded data removed]",
      "text/plain": [
       "<Figure size 432x288 with 1 Axes>"
      ]
     },
     "metadata": {
      "needs_background": "light"
     },
     "output_type": "display_data"
    }
   ],
   "source": [
    "# Plot important coefficients\n",
    "coefs = pd.Series(lasso.coef_, index = all_data.columns)\n",
    "print(\"Lasso picked \" + str(sum(coefs != 0)) + \" features and eliminated the other \" +  \\\n",
    "      str(sum(coefs == 0)) + \" features\")\n",
    "imp_coefs = pd.concat([coefs.sort_values().head(10),\n",
    "                     coefs.sort_values().tail(10)])\n",
    "imp_coefs.plot(kind = \"barh\")\n",
    "plt.title(\"Coefficients in the Lasso Model\")\n",
    "plt.show()\n"
   ]
  },
  {
   "cell_type": "code",
   "execution_count": 37,
   "metadata": {},
   "outputs": [
    {
     "name": "stdout",
     "output_type": "stream",
     "text": [
      "Best l1_ratio : 0.5\n",
      "Best alpha : 0.003\n",
      "Try again for more precision with l1_ratio centered around 0.5\n",
      "Best l1_ratio : 0.45\n",
      "Best alpha : 0.003\n",
      "Now try again for more precision on alpha, with l1_ratio fixed at 0.45 and alpha centered around 0.003\n",
      "Best l1_ratio : 0.45\n",
      "Best alpha : 0.003\n",
      "ElasticNet RMSE on Training set : 0.11664886513647735\n",
      "ElasticNet RMSE on Test set : 0.12254583592771764\n"
     ]
    }
   ],
   "source": [
    "from sklearn.linear_model import ElasticNetCV\n",
    "elasticNet = ElasticNetCV(l1_ratio = [0.1, 0.3, 0.5, 0.6, 0.7, 0.8, 0.85, 0.9, 0.95, 1],\n",
    "                          alphas = [0.0001, 0.0003, 0.0006, 0.001, 0.003, 0.006, \n",
    "                                    0.01, 0.03, 0.06, 0.1, 0.3, 0.6, 1, 3, 6], \n",
    "                          max_iter = 50000, cv = 10)\n",
    "elasticNet.fit(X_train, y_train)\n",
    "alpha = elasticNet.alpha_\n",
    "ratio = elasticNet.l1_ratio_\n",
    "print(\"Best l1_ratio :\", ratio)\n",
    "print(\"Best alpha :\", alpha )\n",
    "\n",
    "print(\"Try again for more precision with l1_ratio centered around \" + str(ratio))\n",
    "elasticNet = ElasticNetCV(l1_ratio = [ratio * .85, ratio * .9, ratio * .95, ratio, ratio * 1.05, ratio * 1.1, ratio * 1.15],\n",
    "                          alphas = [0.0001, 0.0003, 0.0006, 0.001, 0.003, 0.006, 0.01, 0.03, 0.06, 0.1, 0.3, 0.6, 1, 3, 6], \n",
    "                          max_iter = 50000, cv = 10)\n",
    "elasticNet.fit(X_train, y_train)\n",
    "if (elasticNet.l1_ratio_ > 1):\n",
    "    elasticNet.l1_ratio_ = 1    \n",
    "alpha = elasticNet.alpha_\n",
    "ratio = elasticNet.l1_ratio_\n",
    "print(\"Best l1_ratio :\", ratio)\n",
    "print(\"Best alpha :\", alpha )\n",
    "\n",
    "print(\"Now try again for more precision on alpha, with l1_ratio fixed at \" + str(ratio) + \n",
    "      \" and alpha centered around \" + str(alpha))\n",
    "elasticNet = ElasticNetCV(l1_ratio = ratio,\n",
    "                          alphas = [alpha * .6, alpha * .65, alpha * .7, alpha * .75, alpha * .8, alpha * .85, alpha * .9, \n",
    "                                    alpha * .95, alpha, alpha * 1.05, alpha * 1.1, alpha * 1.15, alpha * 1.25, alpha * 1.3, \n",
    "                                    alpha * 1.35, alpha * 1.4], \n",
    "                          max_iter = 50000, cv = 10)\n",
    "elasticNet.fit(X_train, y_train)\n",
    "if (elasticNet.l1_ratio_ > 1):\n",
    "    elasticNet.l1_ratio_ = 1    \n",
    "alpha = elasticNet.alpha_\n",
    "ratio = elasticNet.l1_ratio_\n",
    "print(\"Best l1_ratio :\", ratio)\n",
    "print(\"Best alpha :\", alpha )\n",
    "\n",
    "print(\"ElasticNet RMSE on Training set :\", rmse_cv(elasticNet).mean())\n",
    "print(\"ElasticNet RMSE on Test set :\", rmse_cv_test(elasticNet).mean())\n"
   ]
  },
  {
   "cell_type": "code",
   "execution_count": 38,
   "metadata": {},
   "outputs": [
    {
     "name": "stdout",
     "output_type": "stream",
     "text": [
      "ElasticNet picked 75 features and eliminated the other 29 features\n"
     ]
    },
    {
     "data": {
      "image/png": "[encoded data removed]",
      "text/plain": [
       "<Figure size 432x288 with 1 Axes>"
      ]
     },
     "metadata": {
      "needs_background": "light"
     },
     "output_type": "display_data"
    }
   ],
   "source": [
    "coefs = pd.Series(elasticNet.coef_, index = all_data.columns)\n",
    "print(\"ElasticNet picked \" + str(sum(coefs != 0)) + \" features and eliminated the other \" +  str(sum(coefs == 0)) + \" features\")\n",
    "imp_coefs = pd.concat([coefs.sort_values().head(10),\n",
    "                     coefs.sort_values().tail(10)])\n",
    "imp_coefs.plot(kind = \"barh\")\n",
    "plt.title(\"Coefficients in the ElasticNet Model\")\n",
    "plt.show()\n"
   ]
  },
  {
   "cell_type": "code",
   "execution_count": 29,
   "metadata": {},
   "outputs": [
    {
     "name": "stdout",
     "output_type": "stream",
     "text": [
      "Xgboodt RMSE on training data: 0.12970684998036655\n",
      "Xgboost RMSE on test data: 0.12943956911811233\n"
     ]
    }
   ],
   "source": [
    "from xgboost import XGBRegressor\n",
    "'''\n",
    "xgb = XGBRegressor(colsample_bytree=0.4603, gamma=0.0468, \n",
    "                             learning_rate=0.05, max_depth=3, \n",
    "                             min_child_weight=1.7817, n_estimators=2200,\n",
    "                             reg_alpha=0.4640, reg_lambda=0.8571,\n",
    "                             subsample=0.5213, silent=1,\n",
    "                             random_state =7, nthread = -1)\n",
    "'''\n",
    "xgb = XGBRegressor(n_estimators=700,learning_rate=0.07,subsample=0.9,colsample_bytree=0.7)\n",
    "print('Xgboodt RMSE on training data:',rmse_cv(xgb).mean())\n",
    "print('Xgboost RMSE on test data:',rmse_cv_test(xgb).mean())\n"
   ]
  },
  {
   "cell_type": "code",
   "execution_count": 39,
   "metadata": {},
   "outputs": [
    {
     "name": "stdout",
     "output_type": "stream",
     "text": [
      "GradientBoost RMSE on training data: 0.1229733995549916\n",
      "GradientBoost RMSE on test data: 0.1260562819704552\n"
     ]
    }
   ],
   "source": [
    "from sklearn.ensemble import GradientBoostingRegressor\n",
    "gbr = GradientBoostingRegressor(n_estimators=3000, learning_rate=0.05,\n",
    "                                max_depth=4, max_features='sqrt',\n",
    "                                min_samples_leaf=15, min_samples_split=10, \n",
    "                                loss='huber', random_state =5)\n",
    "print('GradientBoost RMSE on training data:',rmse_cv(gbr).mean())\n",
    "print('GradientBoost RMSE on test data:',rmse_cv_test(gbr).mean())\n"
   ]
  },
  {
   "cell_type": "code",
   "execution_count": 42,
   "metadata": {},
   "outputs": [
    {
     "name": "stdout",
     "output_type": "stream",
     "text": [
      "aver model on train: 0.11704392380483881\n",
      "aver model on test: 0.12118599806230397\n"
     ]
    }
   ],
   "source": [
    "from sklearn.base import BaseEstimator, TransformerMixin, RegressorMixin,clone\n",
    "from sklearn.model_selection import KFold\n",
    "class AveragingModels(BaseEstimator, RegressorMixin, TransformerMixin):\n",
    "    def __init__(self, models,weights):\n",
    "        self.models = models\n",
    "        self.weights = np.array(weights)\n",
    "    def fit(self, X, y):\n",
    "        self.models_ = [clone(x) for x in self.models]\n",
    "        for model in self.models_:\n",
    "             model.fit(X,y)\n",
    "        return self\n",
    "    def predict(self,X):\n",
    "        predictions = np.column_stack([model.predict(X) for model in self.models_])\n",
    "        return np.sum(self.weights*predictions, axis=1)\n",
    "\n",
    "    #aver_model = AveragingModels(models=(elasticNet,KRR,ridge,lasso),weights=(0.5,0.1,0.25,0.15))\n",
    "#aver_model = AveragingModels(models=(elasticNet,xgb,ridge,lasso),weights=(0.5,0.1,0.25,0.15))\n",
    "aver_model = AveragingModels(models=(xgb,gbr,elasticNet,ridge,lasso),weights=(0.6,0.1,0.2,0.05,0.05))\n",
    "print('aver model on train:',rmse_cv(aver_model).mean())\n",
    "print('aver model on test:',rmse_cv_test(aver_model).mean())\n"
   ]
  },
  {
   "cell_type": "code",
   "execution_count": 32,
   "metadata": {},
   "outputs": [],
   "source": [
    "#pred_y_log = elasticNet.predict(test_all_data)\n",
    "xgb.fit(train_all_data,y)\n",
    "pred_y_log = xgb.predict(test_all_data)\n",
    "pred_y = np.expm1(pred_y_log)\n"
   ]
  },
  {
   "cell_type": "code",
   "execution_count": 33,
   "metadata": {
    "scrolled": true
   },
   "outputs": [],
   "source": [
    "submission = pd.DataFrame({\n",
    "        \"Id\": test_df.Id,\n",
    "        \"SalePrice\": pred_y\n",
    "    })\n"
   ]
  },
  {
   "cell_type": "code",
   "execution_count": 34,
   "metadata": {},
   "outputs": [],
   "source": [
    "submission.to_csv('result/submission_aver.csv', index=False)"
   ]
  },
  {
   "cell_type": "code",
   "execution_count": null,
   "metadata": {},
   "outputs": [],
   "source": []
  }
 ],
 "metadata": {
  "kernelspec": {
   "display_name": "Python 3",
   "language": "python",
   "name": "python3"
  },
  "language_info": {
   "codemirror_mode": {
    "name": "ipython",
    "version": 3
   },
   "file_extension": ".py",
   "mimetype": "text/x-python",
   "name": "python",
   "nbconvert_exporter": "python",
   "pygments_lexer": "ipython3",
   "version": "3.7.9"
  }
 },
 "nbformat": 4,
 "nbformat_minor": 4
}
