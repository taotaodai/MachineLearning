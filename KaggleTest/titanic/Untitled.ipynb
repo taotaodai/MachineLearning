{
 "cells": [
  {
   "cell_type": "code",
   "execution_count": 13,
   "metadata": {},
   "outputs": [
    {
     "data": {
      "image/png": "[encoded data removed]",
      "text/plain": [
       "<Figure size 432x288 with 1 Axes>"
      ]
     },
     "metadata": {
      "needs_background": "light"
     },
     "output_type": "display_data"
    }
   ],
   "source": [
    "# %load train.py\n",
    "\n",
    "import pandas as pd\n",
    "import numpy as np\n",
    "import matplotlib.pyplot as plt\n",
    "import matplotlib\n",
    "from pandas import Series,DataFrame\n",
    "\n",
    "plt.rcParams['font.sans-serif'] = ['SimHei']  # 用来正常显示中文标签\n",
    "plt.rcParams['axes.unicode_minus'] = False\n",
    "# myfont = matplotlib.font_manager.FontProperties(fname='C:\\Windows\\Fonts\\simkai.ttf')\n",
    "\n",
    "pd.set_option('display.max_columns',None)\n",
    "data_train = pd.read_csv(\"train.csv\")\n",
    "\n",
    "# print(data_train.keys())\n",
    "\n",
    "# print(data_train.mean)\n",
    "# print(data_train[0:10])\n",
    "\"-----------------------特征---------------------\"\n",
    "\"0.PassengerId\"\n",
    "\"1.Survived： 1为幸存 0为死亡\"\n",
    "\"2.Pclass(船舱等级)：1>2>3\"\n",
    "\"3.Name\"\n",
    "\"4.Sex：female>male\"\n",
    "\"5.Age\"\n",
    "\"6.SibSp(一同上船的兄弟姐妹或配偶)\"\n",
    "\"7.Parch\"\n",
    "\"8.Ticket\"\n",
    "\"9.Fare(票价)\"\n",
    "\"10.Cabin(船舱)\"\n",
    "\"11.Embarked\"\n",
    "\n",
    "fig = plt.figure()\n",
    "fig.set(alpha=0.2)\n",
    "\n",
    "plt.subplot2grid((2,3),(0,0))\n",
    "data_train.Survived.value_counts().plot(kind=\"bar\")\n",
    "plt.ylabel(u\"获救情况 (1为获救)\")\n",
    "plt.title(u\"人数\")\n",
    "\n",
    "plt.show()"
   ]
  },
  {
   "cell_type": "code",
   "execution_count": null,
   "metadata": {},
   "outputs": [],
   "source": []
  },
  {
   "cell_type": "code",
   "execution_count": null,
   "metadata": {},
   "outputs": [],
   "source": []
  },
  {
   "cell_type": "code",
   "execution_count": null,
   "metadata": {},
   "outputs": [],
   "source": []
  },
  {
   "cell_type": "code",
   "execution_count": null,
   "metadata": {},
   "outputs": [],
   "source": []
  }
 ],
 "metadata": {
  "kernelspec": {
   "display_name": "Python 3",
   "language": "python",
   "name": "python3"
  },
  "language_info": {
   "codemirror_mode": {
    "name": "ipython",
    "version": 3
   },
   "file_extension": ".py",
   "mimetype": "text/x-python",
   "name": "python",
   "nbconvert_exporter": "python",
   "pygments_lexer": "ipython3",
   "version": "3.6.5"
  }
 },
 "nbformat": 4,
 "nbformat_minor": 2
}
