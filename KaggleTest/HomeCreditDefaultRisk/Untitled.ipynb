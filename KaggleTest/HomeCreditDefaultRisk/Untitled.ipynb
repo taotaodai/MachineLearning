{
 "cells": [
  {
   "cell_type": "code",
   "execution_count": 40,
   "metadata": {},
   "outputs": [],
   "source": [
    "import pandas as pd\n",
    "import numpy as np\n",
    "from sklearn import linear_model"
   ]
  },
  {
   "cell_type": "code",
   "execution_count": 2,
   "metadata": {},
   "outputs": [],
   "source": [
    "pd.set_option('display.max_columns', None)\n",
    "pd.set_option('display.max_rows', None)"
   ]
  },
  {
   "cell_type": "code",
   "execution_count": 30,
   "metadata": {},
   "outputs": [],
   "source": [
    "df_train_origin = pd.read_csv('data/application_train.csv')\n",
    "df_test_origin = pd.read_csv('data/application_test.csv')\n",
    "\n",
    "combine_origin = [df_train_origin,df_test_origin]"
   ]
  },
  {
   "cell_type": "code",
   "execution_count": 25,
   "metadata": {},
   "outputs": [],
   "source": [
    "# df_train[[\"FLAG_OWN_CAR\", \"TARGET\"]].groupby(['FLAG_OWN_CAR'], as_index=False).mean().sort_values(by='TARGET', ascending=False)\n",
    "# df_train[[\"FLAG_OWN_CAR\", \"TARGET\"]].groupby(['FLAG_OWN_CAR'], as_index=False).mean().sort_values(by='TARGET', ascending=False)"
   ]
  },
  {
   "cell_type": "code",
   "execution_count": null,
   "metadata": {},
   "outputs": [],
   "source": [
    "# TARGET：1-会逾期；2-其他情况\n",
    "# NAME_CONTRACT_TYPE（合同类型-贷款方式）：Cash loans（现金贷款）；Revolving loans（循环贷款）\n",
    "# CODE_GENDER（客户性别）：F（女）；M（男）；XNA（）\n",
    "# FLAG_OWN_CAR（是否拥有车辆）：N/Y\n",
    "# FLAG_OWN_REALTY（是否拥有房产）：N/Y\n",
    "# CNT_CHILDREN（拥有子女数量）：int\n",
    "# AMT_INCOME_TOTAL（收入）：\n",
    "# AMT_CREDIT（贷款的信贷金额）：\n",
    "# AMT_ANNUITY（年金-每期还款）\n",
    "# AMT_GOODS_PRICE（商品价格）\n",
    "# NAME_TYPE_SUITE（客户申请贷款时由谁陪同）：1.Unaccompanied（无陪同）；2.Family；3.Spouse, partner（配偶伴侣）；4.Children；5.Other_B；6.Other_A；7.Group of people\n",
    "# NAME_INCOME_TYPE（收入类型）：1.Working；2.Commercial associate（商业伙伴）；3.Pensioner（养老金）；4.State servant（）；5.Unemployed（失业）；6.Student；7.Businessman；8.Maternity leave\n",
    "# NAME_EDUCATION_TYPE（受教育程度）：1.Secondary / secondary special；2.Higher education；3.Incomplete higher；4.Lower secondary；5.Academic degree\n",
    "# NAME_FAMILY_STATUS（家庭情况）：1.Married；2.Single / not married；3.Civil marriage；4.Separated；5.Widow；6.Unknown\n",
    "# NAME_HOUSING_TYPE（住房情况）：1.House / apartment；2.With parents；3.Municipal apartment；4.Rented apartment；5.Office apartment；6.Co-op apartment\n",
    "# REGION_POPULATION_RELATIVE（数量越高表示客户所在区域人口越多）：\n",
    "# DAYS_BIRTH（年龄-天）\n",
    "# DAYS_EMPLOYED（当前的工作持续时间-天）\n",
    "# DAYS_LAST_PHONE_CHANGE\n",
    "# DAYS_REGISTRATION（客户在申请前几天更改了注册）？？\n",
    "# DAYS_ID_PUBLISH（客户在申请前多少天更改了申请贷款的身份证明文件）？？\n",
    "# OWN_CAR_AGE（车的年龄）\n",
    "# FLAG_MOBIL（是否预留的手机号）：1/0\n",
    "# FLAG_EMP_PHONE\n",
    "# FLAG_WORK_PHONE\n",
    "# FLAG_CONT_MOBILE\n",
    "# FLAG_PHONE\n",
    "# FLAG_EMAIL\n",
    "# FLAG_DOCUMENT_2（是否提供了文件2~21）：1/0\n",
    "# OCCUPATION_TYPE（职业）：1.Laborers；2.Sales staff；3.Core staff；4.Managers；5.Drivers；6.High skill tech staff；7.Accountants；8.Medicine staff；9.Security staff；10.Cooking staff；\n",
    "#                          11.Cleaning staff；12.Private service staff；13.Low-skill Laborers；14.Waiters/barmen staff；15.Secretaries；16.Realty agents；17.HR staff；18.IT staff\n",
    "# CNT_FAM_MEMBERS（家庭成员数量）\n",
    "# REGION_RATING_CLIENT（我们对客户所在地区的评级）：1/2/3\n",
    "# REGION_RATING_CLIENT_W_CITY（考虑城市因素，我们对客户所在地区的评级）：1/2/3\n",
    "# WEEKDAY_APPR_PROCESS_START（申请贷款的在一周中的哪一天）\n",
    "# HOUR_APPR_PROCESS_START（申请贷款的在一周中的几点）\n",
    "# REG_REGION_NOT_LIVE_REGION（永久地址与联系地址是否在同一区域级别）：0（相同）；1（不同）\n",
    "# REG_REGION_NOT_WORK_REGION（永久地址与工作地址是否在同一区域级别）：0（相同）；1（不同）\n",
    "# LIVE_REGION_NOT_WORK_REGION（联系地址与工作地址是否在同一区域级别）：0（相同）；1（不同）\n",
    "# REG_CITY_NOT_LIVE_CITY（永久地址与联系地址是否在同一城市级别）：\n",
    "# REG_CITY_NOT_WORK_CITY\n",
    "# LIVE_CITY_NOT_WORK_CITY\n",
    "# ORGANIZATION_TYPE（工作的组织类型）：类型比较多\n",
    "# EXT_SOURCE_1（来自外部数据源的标准化评分）：0~1\n",
    "# EXT_SOURCE_2\n",
    "# EXT_SOURCE_3\n",
    "\n",
    "## 客户居住的建筑的标准化信息，平均(_AVG后缀)，modus后缀(_MODE后缀)，中值(_MEDI后缀)  0~1 \n",
    "## 公寓大小，公共面积，居住面积，建筑年龄，电梯数量，入口数量，建筑状态，楼层数\n",
    "# APARTMENTS_AVG（公寓大小）\n",
    "# BASEMENTAREA_AVG（地下室）\n",
    "# YEARS_BEGINEXPLUATATION_AVG\n",
    "# YEARS_BUILD_AVG\n",
    "# COMMONAREA_AVG\n",
    "# ELEVATORS_AVG\n",
    "# ENTRANCES_AVG\n",
    "# FLOORSMAX_AVG\n",
    "# FLOORSMIN_AVG\n",
    "# LANDAREA_AVG\n",
    "# LIVINGAPARTMENTS_AVG\n",
    "# LIVINGAREA_AVG\n",
    "# NONLIVINGAPARTMENTS_AVG\n",
    "# NONLIVINGAREA_AVG\n",
    "\n",
    "# OBS_30_CNT_SOCIAL_CIRCLE（逾期30天，对客户社交环境的观察有多少次）\n",
    "# DEF_30_CNT_SOCIAL_CIRCLE（逾期30天的客户社会环境观察值）\n",
    "# OBS_60_CNT_SOCIAL_CIRCLE\n",
    "# DEF_60_CNT_SOCIAL_CIRCLE\n",
    "\n",
    "# AMT_REQ_CREDIT_BUREAU_HOUR（在申请前一小时向信用局询问客户的数量）\n",
    "# AMT_REQ_CREDIT_BUREAU_DAY（在申请前一天(不包括申请前一小时)向信贷局查询客户的数目）\n",
    "# AMT_REQ_CREDIT_BUREAU_WEEK\n",
    "# AMT_REQ_CREDIT_BUREAU_MON\n",
    "# AMT_REQ_CREDIT_BUREAU_QRT\n",
    "# AMT_REQ_CREDIT_BUREAU_YEAR"
   ]
  },
  {
   "cell_type": "code",
   "execution_count": 51,
   "metadata": {},
   "outputs": [],
   "source": [
    "combine = []\n",
    "\n",
    "for dataset in combine_origin:\n",
    "    # 由于字段比较多，先把需要的提取出来\n",
    "    df = pd.DataFrame()\n",
    "    try:\n",
    "        df = dataset[['SK_ID_CURR','TARGET']]\n",
    "    except:\n",
    "        df = dataset[['SK_ID_CURR']]\n",
    "    \n",
    "    income_median = dataset['AMT_INCOME_TOTAL'].median()\n",
    "    a = np.linspace(income_median * 0.5,income_median * 1.5,num = 4)\n",
    "    \n",
    "    dataset.loc[dataset['AMT_INCOME_TOTAL'] < a[0],'AMT_INCOME_TOTAL'] = 1\n",
    "    dataset.loc[(dataset['AMT_INCOME_TOTAL'] >= a[0]) & (dataset['AMT_INCOME_TOTAL'] < a[1]),'AMT_INCOME_TOTAL'] = 2\n",
    "    dataset.loc[(dataset['AMT_INCOME_TOTAL'] >= a[1]) & (dataset['AMT_INCOME_TOTAL'] < a[2]),'AMT_INCOME_TOTAL'] = 3\n",
    "    dataset.loc[(dataset['AMT_INCOME_TOTAL'] >= a[2]) & (dataset['AMT_INCOME_TOTAL'] < a[3]),'AMT_INCOME_TOTAL'] = 4\n",
    "    dataset.loc[dataset['AMT_INCOME_TOTAL'] >= a[3],'AMT_INCOME_TOTAL'] = 5\n",
    "    \n",
    "    df = pd.concat([df,dataset[['AMT_INCOME_TOTAL']]],axis=1)\n",
    "    \n",
    "    combine.append(df)\n"
   ]
  },
  {
   "cell_type": "code",
   "execution_count": 37,
   "metadata": {},
   "outputs": [
    {
     "data": {
      "text/html": [
       "<div>\n",
       "<style scoped>\n",
       "    .dataframe tbody tr th:only-of-type {\n",
       "        vertical-align: middle;\n",
       "    }\n",
       "\n",
       "    .dataframe tbody tr th {\n",
       "        vertical-align: top;\n",
       "    }\n",
       "\n",
       "    .dataframe thead th {\n",
       "        text-align: right;\n",
       "    }\n",
       "</style>\n",
       "<table border=\"1\" class=\"dataframe\">\n",
       "  <thead>\n",
       "    <tr style=\"text-align: right;\">\n",
       "      <th></th>\n",
       "      <th>SK_ID_CURR</th>\n",
       "      <th>TARGET</th>\n",
       "      <th>AMT_INCOME_TOTAL</th>\n",
       "    </tr>\n",
       "  </thead>\n",
       "  <tbody>\n",
       "    <tr>\n",
       "      <th>0</th>\n",
       "      <td>100002</td>\n",
       "      <td>1</td>\n",
       "      <td>4.0</td>\n",
       "    </tr>\n",
       "    <tr>\n",
       "      <th>1</th>\n",
       "      <td>100003</td>\n",
       "      <td>0</td>\n",
       "      <td>5.0</td>\n",
       "    </tr>\n",
       "    <tr>\n",
       "      <th>2</th>\n",
       "      <td>100004</td>\n",
       "      <td>0</td>\n",
       "      <td>1.0</td>\n",
       "    </tr>\n",
       "    <tr>\n",
       "      <th>3</th>\n",
       "      <td>100006</td>\n",
       "      <td>0</td>\n",
       "      <td>3.0</td>\n",
       "    </tr>\n",
       "    <tr>\n",
       "      <th>4</th>\n",
       "      <td>100007</td>\n",
       "      <td>0</td>\n",
       "      <td>2.0</td>\n",
       "    </tr>\n",
       "  </tbody>\n",
       "</table>\n",
       "</div>"
      ],
      "text/plain": [
       "   SK_ID_CURR  TARGET  AMT_INCOME_TOTAL\n",
       "0      100002       1               4.0\n",
       "1      100003       0               5.0\n",
       "2      100004       0               1.0\n",
       "3      100006       0               3.0\n",
       "4      100007       0               2.0"
      ]
     },
     "execution_count": 37,
     "metadata": {},
     "output_type": "execute_result"
    }
   ],
   "source": [
    "combine[0].head()"
   ]
  },
  {
   "cell_type": "code",
   "execution_count": 44,
   "metadata": {},
   "outputs": [],
   "source": [
    "df_train = combine[0]\n",
    "df_test = combine[1]\n",
    "\n",
    "X_train = df_train.drop([\"TARGET\",'SK_ID_CURR'], axis=1)\n",
    "Y_train = df_train[\"TARGET\"]\n",
    "\n",
    "X_test  = df_test.drop(\"SK_ID_CURR\", axis=1).copy()"
   ]
  },
  {
   "cell_type": "code",
   "execution_count": 45,
   "metadata": {},
   "outputs": [
    {
     "data": {
      "text/plain": [
       "LinearRegression(copy_X=True, fit_intercept=True, n_jobs=None,\n",
       "         normalize=False)"
      ]
     },
     "execution_count": 45,
     "metadata": {},
     "output_type": "execute_result"
    }
   ],
   "source": [
    "model = linear_model.LinearRegression()\n",
    "model.fit(X_train, Y_train)\n"
   ]
  },
  {
   "cell_type": "code",
   "execution_count": 46,
   "metadata": {},
   "outputs": [],
   "source": [
    "Y_pred = model.predict(X_test)"
   ]
  },
  {
   "cell_type": "code",
   "execution_count": 54,
   "metadata": {},
   "outputs": [
    {
     "data": {
      "text/plain": [
       "array([0.08143126, 0.08538996, 0.07747255, 0.07351384, 0.08143126])"
      ]
     },
     "execution_count": 54,
     "metadata": {},
     "output_type": "execute_result"
    }
   ],
   "source": [
    "Y_pred[0:5]"
   ]
  },
  {
   "cell_type": "code",
   "execution_count": 56,
   "metadata": {},
   "outputs": [],
   "source": [
    "# df_test[df_test['AMT_INCOME_TOTAL'] == 1]"
   ]
  },
  {
   "cell_type": "code",
   "execution_count": null,
   "metadata": {},
   "outputs": [],
   "source": []
  }
 ],
 "metadata": {
  "kernelspec": {
   "display_name": "Python 3",
   "language": "python",
   "name": "python3"
  },
  "language_info": {
   "codemirror_mode": {
    "name": "ipython",
    "version": 3
   },
   "file_extension": ".py",
   "mimetype": "text/x-python",
   "name": "python",
   "nbconvert_exporter": "python",
   "pygments_lexer": "ipython3",
   "version": "3.7.1"
  }
 },
 "nbformat": 4,
 "nbformat_minor": 4
}
