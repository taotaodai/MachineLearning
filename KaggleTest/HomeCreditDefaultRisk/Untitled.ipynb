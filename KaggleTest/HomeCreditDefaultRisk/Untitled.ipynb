{
 "cells": [
  {
   "cell_type": "code",
   "execution_count": 1,
   "metadata": {},
   "outputs": [],
   "source": [
    "import pandas as pd\n",
    "import numpy as np\n",
    "\n",
    "from sklearn.feature_selection import SelectPercentile\n",
    "from sklearn import linear_model\n",
    "from sklearn.linear_model import LogisticRegression"
   ]
  },
  {
   "cell_type": "code",
   "execution_count": 2,
   "metadata": {},
   "outputs": [],
   "source": [
    "pd.set_option('display.max_columns', None)\n",
    "pd.set_option('display.max_rows', None)"
   ]
  },
  {
   "cell_type": "code",
   "execution_count": 28,
   "metadata": {},
   "outputs": [],
   "source": [
    "df_train_origin = pd.read_csv('data/application_train.csv')\n",
    "df_test_origin = pd.read_csv('data/application_test.csv')\n",
    "\n",
    "combine_origin = [df_train_origin,df_test_origin]"
   ]
  },
  {
   "cell_type": "code",
   "execution_count": 154,
   "metadata": {},
   "outputs": [],
   "source": [
    "# df_train[[\"FLAG_OWN_CAR\", \"TARGET\"]].groupby(['FLAG_OWN_CAR'], as_index=False).mean().sort_values(by='TARGET', ascending=False)\n",
    "\n",
    "# 收教育程度高低和逾期存在关系\n",
    "# df_train_origin[[\"NAME_EDUCATION_TYPE\", \"TARGET\"]].groupby(['NAME_EDUCATION_TYPE'], as_index=False).mean().sort_values(by='TARGET', ascending=False)\n",
    "\n",
    "# 通过箱型图观察，每期还款金额会影响逾期\n",
    "# df_train_origin[df_train_origin['TARGET'] == 1][['AMT_ANNUITY']].plot.box()\n",
    "# df_train_origin[df_train_origin['TARGET'] == 0][['AMT_ANNUITY']].plot.box()\n",
    "\n"
   ]
  },
  {
   "cell_type": "code",
   "execution_count": 186,
   "metadata": {},
   "outputs": [
    {
     "data": {
      "text/plain": [
       "(218391, 122)"
      ]
     },
     "execution_count": 186,
     "metadata": {},
     "output_type": "execute_result"
    }
   ],
   "source": [
    "df_train_origin[df_train_origin['NAME_EDUCATION_TYPE'] == 'Secondary / secondary special'].shape"
   ]
  },
  {
   "cell_type": "code",
   "execution_count": 29,
   "metadata": {},
   "outputs": [],
   "source": [
    "# combine_origin[0].head()"
   ]
  },
  {
   "cell_type": "code",
   "execution_count": 165,
   "metadata": {},
   "outputs": [
    {
     "data": {
      "text/plain": [
       "(0, 122)"
      ]
     },
     "execution_count": 165,
     "metadata": {},
     "output_type": "execute_result"
    }
   ],
   "source": [
    "df_train_origin[df_train_origin['NAME_TYPE_SUITE'].isnull()].shape"
   ]
  },
  {
   "cell_type": "code",
   "execution_count": 151,
   "metadata": {},
   "outputs": [],
   "source": [
    "# TARGET：1-会逾期；2-其他情况\n",
    "# NAME_CONTRACT_TYPE（合同类型-贷款方式）：Cash loans（现金贷款）；Revolving loans（循环贷款）\n",
    "# CODE_GENDER（客户性别）：F（女）；M（男）；XNA（）\n",
    "# FLAG_OWN_CAR（是否拥有车辆）：N/Y\n",
    "# FLAG_OWN_REALTY（是否拥有房产）：N/Y\n",
    "# CNT_CHILDREN（拥有子女数量）：int\n",
    "# AMT_INCOME_TOTAL（收入）：\n",
    "# AMT_CREDIT（贷款的信贷金额）：\n",
    "# AMT_ANNUITY（年金-每期还款）\n",
    "# AMT_GOODS_PRICE（商品价格）\n",
    "\n",
    "# NAME_TYPE_SUITE（客户申请贷款时由谁陪同）：1.Unaccompanied（无陪同）；2.Family；3.Spouse, partner（配偶伴侣）；4.Children；5.Other_B；6.Other_A；7.Group of people\n",
    "# NAME_INCOME_TYPE（收入类型）：1.Working；2.Commercial associate（商业伙伴）；3.Pensioner（养老金）；4.State servant（）；5.Unemployed（失业）；6.Student；7.Businessman；8.Maternity leave\n",
    "# NAME_EDUCATION_TYPE（受教育程度）：1.Secondary / secondary special（高中）；2.Higher education（大学以上学历）；3.Incomplete higher（大学在读/未完成大学）；4.Lower secondary（初中）；5.Academic degree（学位）\n",
    "# NAME_FAMILY_STATUS（家庭情况）：1.Married；2.Single / not married；3.Civil marriage；4.Separated；5.Widow；6.Unknown\n",
    "# NAME_HOUSING_TYPE（住房情况）：1.House / apartment；2.With parents；3.Municipal apartment；4.Rented apartment；5.Office apartment；6.Co-op apartment\n",
    "# REGION_POPULATION_RELATIVE（数量越高表示客户所在区域人口越多）：\n",
    "# DAYS_BIRTH（年龄-天）：\n",
    "# DAYS_EMPLOYED（当前的工作持续时间-天）：\n",
    "# DAYS_LAST_PHONE_CHANGE（-天）：\n",
    "# DAYS_REGISTRATION（客户在申请前几天更改了注册-天）：\n",
    "# DAYS_ID_PUBLISH（客户在申请前多少天更改了申请贷款的身份证明文件-天）：\n",
    "# OWN_CAR_AGE（车的年龄）：1.NaN；2.int\n",
    "# FLAG_MOBIL（是否预留的手机号）：1/0\n",
    "# FLAG_EMP_PHONE：1/0\n",
    "# FLAG_WORK_PHONE：1/0\n",
    "# FLAG_CONT_MOBILE：1/0\n",
    "# FLAG_PHONE：1/0\n",
    "# FLAG_EMAIL：1/0\n",
    "# FLAG_DOCUMENT_2（是否提供了文件2~21）：1/0\n",
    "# OCCUPATION_TYPE（职业）：1.Laborers；2.Sales staff；3.Core staff；4.Managers；5.Drivers；6.High skill tech staff；7.Accountants；8.Medicine staff；9.Security staff；10.Cooking staff；\n",
    "#                          11.Cleaning staff；12.Private service staff；13.Low-skill Laborers；14.Waiters/barmen staff；15.Secretaries；16.Realty agents；17.HR staff；18.IT staff\n",
    "# ORGANIZATION_TYPE（工作的组织类型）：类型比较多\n",
    "# CNT_FAM_MEMBERS（家庭成员数量）：int\n",
    "# REGION_RATING_CLIENT（我们对客户所在地区的评级）：1/2/3\n",
    "# REGION_RATING_CLIENT_W_CITY（考虑城市因素，我们对客户所在地区的评级）：1/2/3\n",
    "# WEEKDAY_APPR_PROCESS_START（申请贷款的在一周中的哪一天）：1.SUNDAY；2.SATURDAY；3.FRIDAY；4.THURSDAY；5.MONDAY；6.WEDNESDAY；7.TUESDAY\n",
    "# HOUR_APPR_PROCESS_START（申请贷款的在一周中的几点）：0~23\n",
    "# REG_REGION_NOT_LIVE_REGION（永久地址与联系地址是否在同一区域级别）：0（相同）；1（不同）\n",
    "# REG_REGION_NOT_WORK_REGION（永久地址与工作地址是否在同一区域级别）：0（相同）；1（不同）\n",
    "# LIVE_REGION_NOT_WORK_REGION（联系地址与工作地址是否在同一区域级别）：0（相同）；1（不同）\n",
    "# REG_CITY_NOT_LIVE_CITY（永久地址与联系地址是否在同一城市级别）：0/1\n",
    "# REG_CITY_NOT_WORK_CITY：0/1\n",
    "# LIVE_CITY_NOT_WORK_CITY：0/1\n",
    "# EXT_SOURCE_1（来自外部数据源的标准化评分）：0~1\n",
    "# EXT_SOURCE_2\n",
    "# EXT_SOURCE_3\n",
    "\n",
    "## 客户居住的建筑的标准化信息，平均(_AVG后缀)，modus后缀(_MODE后缀)，中值(_MEDI后缀)  0~1 \n",
    "## 公寓大小，公共面积，居住面积，建筑年龄，电梯数量，入口数量，建筑状态，楼层数\n",
    "# APARTMENTS_AVG（公寓大小）：1.NaN；2.0~1\n",
    "# BASEMENTAREA_AVG（地下室）：1.NaN；2.0~1\n",
    "# YEARS_BEGINEXPLUATATION_AVG：1.NaN；2.0~1\n",
    "# YEARS_BUILD_AVG：1.NaN；2.0~1\n",
    "# COMMONAREA_AVG：1.NaN；2.0~1\n",
    "# ELEVATORS_AVG：1.NaN；2.0~1\n",
    "# ENTRANCES_AVG：1.NaN；2.0~1\n",
    "# FLOORSMAX_AVG：1.NaN；2.0~1\n",
    "# FLOORSMIN_AVG：1.NaN；2.0~1\n",
    "# LANDAREA_AVG：1.NaN；2.0~1\n",
    "# LIVINGAPARTMENTS_AVG：1.NaN；2.0~1\n",
    "# LIVINGAREA_AVG：1.NaN；2.0~1\n",
    "# NONLIVINGAPARTMENTS_AVG：1.NaN；2.0~1\n",
    "# NONLIVINGAREA_AVG：1.NaN；2.0~1\n",
    "\n",
    "# OBS_30_CNT_SOCIAL_CIRCLE（逾期30天，对客户社交环境的观察有多少次）：\n",
    "# DEF_30_CNT_SOCIAL_CIRCLE（逾期30天的客户社会环境观察值）\n",
    "# OBS_60_CNT_SOCIAL_CIRCLE\n",
    "# DEF_60_CNT_SOCIAL_CIRCLE\n",
    "\n",
    "# AMT_REQ_CREDIT_BUREAU_HOUR（在申请前一小时向信用局询问客户的数量）\n",
    "# AMT_REQ_CREDIT_BUREAU_DAY（在申请前一天(不包括申请前一小时)向信贷局查询客户的数目）\n",
    "# AMT_REQ_CREDIT_BUREAU_WEEK\n",
    "# AMT_REQ_CREDIT_BUREAU_MON\n",
    "# AMT_REQ_CREDIT_BUREAU_QRT\n",
    "# AMT_REQ_CREDIT_BUREAU_YEAR"
   ]
  },
  {
   "cell_type": "code",
   "execution_count": 30,
   "metadata": {},
   "outputs": [],
   "source": [
    "combine = []\n",
    "\n",
    "for i,dataset in enumerate(combine_origin):\n",
    "    # 由于字段比较多，先把需要的提取出来\n",
    "    df = pd.DataFrame()\n",
    "    try:\n",
    "        df = dataset[['SK_ID_CURR','TARGET']]\n",
    "    except:\n",
    "        df = dataset[['SK_ID_CURR']]\n",
    "    \n",
    "#     income_median = dataset['AMT_INCOME_TOTAL'].median()\n",
    "#     a = np.linspace(income_median * 0.5,income_median * 1.5,num = 4)\n",
    "    \n",
    "#     dataset.loc[dataset['AMT_INCOME_TOTAL'] < a[0],'AMT_INCOME_TOTAL'] = 1\n",
    "#     dataset.loc[(dataset['AMT_INCOME_TOTAL'] >= a[0]) & (dataset['AMT_INCOME_TOTAL'] < a[1]),'AMT_INCOME_TOTAL'] = 2\n",
    "#     dataset.loc[(dataset['AMT_INCOME_TOTAL'] >= a[1]) & (dataset['AMT_INCOME_TOTAL'] < a[2]),'AMT_INCOME_TOTAL'] = 3\n",
    "#     dataset.loc[(dataset['AMT_INCOME_TOTAL'] >= a[2]) & (dataset['AMT_INCOME_TOTAL'] < a[3]),'AMT_INCOME_TOTAL'] = 4\n",
    "#     dataset.loc[dataset['AMT_INCOME_TOTAL'] >= a[3],'AMT_INCOME_TOTAL'] = 5\n",
    "\n",
    "\n",
    "    dataset.replace(np.nan, 0, inplace=True) \n",
    "    dataset.replace(np.inf, 0, inplace=True)\n",
    "    \n",
    "    dataset['AMT_INCOME_TOTAL'] = dataset['AMT_INCOME_TOTAL'].apply(lambda x:round(x / 10000,2))\n",
    "    \n",
    "    dataset['NAME_CONTRACT_TYPE'] = dataset['NAME_CONTRACT_TYPE'].map({\"Cash loans\":1,\"Revolving loans\":2})\n",
    "    dataset['CODE_GENDER'] = dataset['CODE_GENDER'].map({\"F\":1,\"M\":2,\"XNA\":3})\n",
    "    dataset['FLAG_OWN_CAR'] = dataset['FLAG_OWN_CAR'].map({\"N\":0,\"Y\":1})\n",
    "    dataset['FLAG_OWN_REALTY'] = dataset['FLAG_OWN_REALTY'].map({\"N\":0,\"Y\":1})\n",
    "    \n",
    "#     dataset['NAME_TYPE_SUITE'] = dataset['NAME_TYPE_SUITE'].fillna(0)\n",
    "    dataset['NAME_TYPE_SUITE'] = dataset['NAME_TYPE_SUITE'].map({\"Unaccompanied\":1,\"Family\":2,\"Spouse, partner\":3,\"Children\":4,\"Other_B\":5,\"Other_A\":6,\"Group of people\":7})\n",
    "    dataset['NAME_INCOME_TYPE'] = dataset['NAME_INCOME_TYPE'].map({\"Working\":1,\"Commercial associate\":2,\"Pensioner\":3,\"State servant\":4,\"Unemployed\":5,\"Student\":6,\"Businessman\":7,\"Maternity leave\":8})\n",
    "    dataset['NAME_FAMILY_STATUS'] = dataset['NAME_FAMILY_STATUS'].map({\"Married\":1,\"Single / not married\":2,\"Civil marriage\":3,\"Separated\":4,\"Widow\":5,\"Unknown\":6})\n",
    "    dataset['NAME_HOUSING_TYPE'] = dataset['NAME_HOUSING_TYPE'].map({\"House / apartment\":1,\"With parents\":2,\"Municipal apartment\":3,\"Rented apartment\":4,\"Office apartment\":5,\"Co-op apartment\":6})\n",
    "#     dataset.loc[dataset['OWN_CAR_AGE'].isnull(),'OWN_CAR_AGE'] = 0\n",
    "#     dataset.loc[dataset['CNT_FAM_MEMBERS'].isnull(),'CNT_FAM_MEMBERS'] = 0\n",
    "    #职业比较多，以后再分析\n",
    "    dataset = dataset.drop(['OCCUPATION_TYPE'], axis=1)\n",
    "    dataset = dataset.drop(['ORGANIZATION_TYPE'], axis=1)\n",
    "    \n",
    "    dataset['WEEKDAY_APPR_PROCESS_START'] = dataset['WEEKDAY_APPR_PROCESS_START'].map({\"SUNDAY\":1,\"SATURDAY\":2,\"FRIDAY\":3,\"THURSDAY\":4,\"MONDAY\":5,\"WEDNESDAY\":6,\"TUESDAY\":7})\n",
    "    \n",
    "    for suffix in ['_AVG','_MODE','_MEDI']:\n",
    "        dataset = dataset.drop(['APARTMENTS' + suffix], axis=1)\n",
    "        dataset = dataset.drop(['BASEMENTAREA' + suffix], axis=1)\n",
    "        dataset = dataset.drop(['YEARS_BEGINEXPLUATATION' + suffix], axis=1)\n",
    "        dataset = dataset.drop(['YEARS_BUILD' + suffix], axis=1)\n",
    "        dataset = dataset.drop(['COMMONAREA' + suffix], axis=1)\n",
    "        dataset = dataset.drop(['ELEVATORS' + suffix], axis=1)\n",
    "        dataset = dataset.drop(['ENTRANCES' + suffix], axis=1)\n",
    "        dataset = dataset.drop(['FLOORSMAX' + suffix], axis=1)\n",
    "        dataset = dataset.drop(['FLOORSMIN' + suffix], axis=1)\n",
    "        dataset = dataset.drop(['LANDAREA' + suffix], axis=1)\n",
    "        dataset = dataset.drop(['LIVINGAPARTMENTS' + suffix], axis=1)\n",
    "        dataset = dataset.drop(['LIVINGAREA' + suffix], axis=1)\n",
    "        dataset = dataset.drop(['NONLIVINGAPARTMENTS' + suffix], axis=1)\n",
    "        dataset = dataset.drop(['NONLIVINGAREA' + suffix], axis=1)\n",
    "        \n",
    "    dataset = dataset.drop(['FONDKAPREMONT_MODE'], axis=1)\n",
    "    dataset = dataset.drop(['HOUSETYPE_MODE'], axis=1)\n",
    "    dataset = dataset.drop(['TOTALAREA_MODE'], axis=1)\n",
    "    dataset = dataset.drop(['WALLSMATERIAL_MODE'], axis=1)\n",
    "    dataset = dataset.drop(['EMERGENCYSTATE_MODE'], axis=1)\n",
    "#     for i in range(1,4):\n",
    "#         dataset.loc[dataset['EXT_SOURCE_' + str(i)].isnull(),'EXT_SOURCE_' + str(i)] = 0\n",
    "        \n",
    "#     for i in range(2,22):\n",
    "#         dataset.loc[dataset['FLAG_DOCUMENT_' + str(i)].isnull(),'FLAG_DOCUMENT_' + str(i)] = 0\n",
    "    \n",
    "#     dataset.loc[dataset['OBS_30_CNT_SOCIAL_CIRCLE' + suffix].isnull(),'OBS_30_CNT_SOCIAL_CIRCLE' + suffix] = 0\n",
    "#     dataset.loc[dataset['DEF_30_CNT_SOCIAL_CIRCLE' + suffix].isnull(),'DEF_30_CNT_SOCIAL_CIRCLE' + suffix] = 0\n",
    "#     dataset.loc[dataset['OBS_60_CNT_SOCIAL_CIRCLE' + suffix].isnull(),'OBS_60_CNT_SOCIAL_CIRCLE' + suffix] = 0\n",
    "#     dataset.loc[dataset['DEF_60_CNT_SOCIAL_CIRCLE' + suffix].isnull(),'DEF_60_CNT_SOCIAL_CIRCLE' + suffix] = 0\n",
    "    \n",
    "#     dataset.loc[dataset['AMT_REQ_CREDIT_BUREAU_HOUR' + suffix].isnull(),'AMT_REQ_CREDIT_BUREAU_HOUR' + suffix] = 0\n",
    "#     dataset.loc[dataset['AMT_REQ_CREDIT_BUREAU_DAY' + suffix].isnull(),'AMT_REQ_CREDIT_BUREAU_DAY' + suffix] = 0\n",
    "#     dataset.loc[dataset['AMT_REQ_CREDIT_BUREAU_WEEK' + suffix].isnull(),'AMT_REQ_CREDIT_BUREAU_WEEK' + suffix] = 0\n",
    "#     dataset.loc[dataset['AMT_REQ_CREDIT_BUREAU_MON' + suffix].isnull(),'AMT_REQ_CREDIT_BUREAU_MON' + suffix] = 0\n",
    "#     dataset.loc[dataset['AMT_REQ_CREDIT_BUREAU_QRT' + suffix].isnull(),'AMT_REQ_CREDIT_BUREAU_QRT' + suffix] = 0\n",
    "#     dataset.loc[dataset['AMT_REQ_CREDIT_BUREAU_YEAR' + suffix].isnull(),'AMT_REQ_CREDIT_BUREAU_YEAR' + suffix] = 0\n",
    "    \n",
    "    #商品价格-填充空值\n",
    "    dataset.loc[dataset['AMT_GOODS_PRICE'] == 0,'AMT_GOODS_PRICE'] = dataset['AMT_GOODS_PRICE'].median()\n",
    "    #每期还款-填充空值\n",
    "    dataset.loc[dataset['AMT_ANNUITY'] == 0,'AMT_ANNUITY'] = dataset['AMT_ANNUITY'].median()\n",
    "    #受教育程度从低到高分成5个等级\n",
    "    dataset['NAME_EDUCATION_TYPE'] = dataset['NAME_EDUCATION_TYPE'].map({\"Lower secondary\":1,\"Secondary / secondary special\":2,\"Incomplete higher\":3,\"Higher education\":4,\"Academic degree\":5})\n",
    "    \n",
    "    combine_origin[i] = dataset\n",
    "    \n",
    "    # 收入/信贷金额\n",
    "    dataset['RATE_INCOME_CREDIT'] = dataset['AMT_INCOME_TOTAL'] / dataset['AMT_CREDIT']\n",
    "    # 收入/商品价格\n",
    "    dataset['RATE_INCOME_GPRICE'] = dataset['AMT_INCOME_TOTAL'] / dataset['AMT_GOODS_PRICE']\n",
    "    # 每期还款/信贷金额\n",
    "    dataset['RATE_ANNUITY_CREDIT'] = dataset['AMT_ANNUITY'] / dataset['AMT_CREDIT']\n",
    "    # 每期还款/收入\n",
    "    dataset['RATE_ANNUITY_INCOME'] = dataset['AMT_ANNUITY'] / dataset['AMT_INCOME_TOTAL']\n",
    "    \n",
    "    df = pd.concat([df,dataset[['RATE_INCOME_CREDIT','RATE_INCOME_GPRICE','RATE_ANNUITY_CREDIT','NAME_EDUCATION_TYPE']]],axis=1)\n",
    "    \n",
    "    combine.append(df)\n"
   ]
  },
  {
   "cell_type": "code",
   "execution_count": null,
   "metadata": {},
   "outputs": [],
   "source": []
  },
  {
   "cell_type": "code",
   "execution_count": 32,
   "metadata": {},
   "outputs": [],
   "source": [
    "# combine_origin[0].head()"
   ]
  },
  {
   "cell_type": "code",
   "execution_count": 23,
   "metadata": {},
   "outputs": [],
   "source": [
    "# 选择特性\n",
    "# X_train = combine_origin[0].drop([\"TARGET\",'SK_ID_CURR'], axis=1)\n",
    "# y_train = combine_origin[0]['TARGET']\n",
    "\n",
    "# select = SelectPercentile(percentile=20)\n",
    "# select.fit(X_train, y_train)\n",
    "\n",
    "# X_train_selected = select.transform(X_train)\n"
   ]
  },
  {
   "cell_type": "code",
   "execution_count": 27,
   "metadata": {},
   "outputs": [
    {
     "data": {
      "text/plain": [
       "0.68"
      ]
     },
     "execution_count": 27,
     "metadata": {},
     "output_type": "execute_result"
    }
   ],
   "source": [
    "round(6750 / 10000,2)"
   ]
  },
  {
   "cell_type": "code",
   "execution_count": 19,
   "metadata": {},
   "outputs": [
    {
     "data": {
      "text/plain": [
       "(307511, 6)"
      ]
     },
     "execution_count": 19,
     "metadata": {},
     "output_type": "execute_result"
    }
   ],
   "source": []
  },
  {
   "cell_type": "code",
   "execution_count": 106,
   "metadata": {},
   "outputs": [],
   "source": [
    "df_train = combine[0]\n",
    "df_test = combine[1]\n",
    "\n",
    "X_train = df_train.drop([\"TARGET\",'SK_ID_CURR'], axis=1)\n",
    "Y_train = df_train[\"TARGET\"]\n",
    "\n",
    "X_test  = df_test.drop(\"SK_ID_CURR\", axis=1).copy()"
   ]
  },
  {
   "cell_type": "code",
   "execution_count": 45,
   "metadata": {},
   "outputs": [
    {
     "data": {
      "text/plain": [
       "LinearRegression(copy_X=True, fit_intercept=True, n_jobs=None,\n",
       "         normalize=False)"
      ]
     },
     "execution_count": 45,
     "metadata": {},
     "output_type": "execute_result"
    }
   ],
   "source": [
    "# model = linear_model.LinearRegression()\n",
    "# model.fit(X_train, Y_train)\n",
    "# Y_pred = model.predict(X_test)"
   ]
  },
  {
   "cell_type": "code",
   "execution_count": 107,
   "metadata": {},
   "outputs": [
    {
     "name": "stderr",
     "output_type": "stream",
     "text": [
      "D:\\Anaconda3\\lib\\site-packages\\sklearn\\linear_model\\logistic.py:433: FutureWarning: Default solver will be changed to 'lbfgs' in 0.22. Specify a solver to silence this warning.\n",
      "  FutureWarning)\n"
     ]
    }
   ],
   "source": [
    "logreg = LogisticRegression()\n",
    "logreg.fit(X_train,Y_train)\n",
    "# Y_pred = logreg.predict(X_test)\n",
    "Y_pred = logreg.predict_proba(X_test)\n",
    "# acc_log = logreg.score(X_train,Y_train)"
   ]
  },
  {
   "cell_type": "code",
   "execution_count": 108,
   "metadata": {},
   "outputs": [],
   "source": [
    "pred = []\n",
    "for t in Y_pred:\n",
    "    pred.append(t[1])"
   ]
  },
  {
   "cell_type": "code",
   "execution_count": null,
   "metadata": {},
   "outputs": [],
   "source": []
  },
  {
   "cell_type": "code",
   "execution_count": 111,
   "metadata": {},
   "outputs": [],
   "source": [
    "submission = pd.DataFrame({\n",
    "        \"SK_ID_CURR\": df_test_origin[\"SK_ID_CURR\"],\n",
    "        \"TARGET\": pred\n",
    "    })"
   ]
  },
  {
   "cell_type": "code",
   "execution_count": 112,
   "metadata": {},
   "outputs": [],
   "source": [
    "submission.to_csv('result/submission.csv', index=False)"
   ]
  },
  {
   "cell_type": "code",
   "execution_count": null,
   "metadata": {},
   "outputs": [],
   "source": []
  }
 ],
 "metadata": {
  "kernelspec": {
   "display_name": "Python 3",
   "language": "python",
   "name": "python3"
  },
  "language_info": {
   "codemirror_mode": {
    "name": "ipython",
    "version": 3
   },
   "file_extension": ".py",
   "mimetype": "text/x-python",
   "name": "python",
   "nbconvert_exporter": "python",
   "pygments_lexer": "ipython3",
   "version": "3.7.1"
  }
 },
 "nbformat": 4,
 "nbformat_minor": 4
}
