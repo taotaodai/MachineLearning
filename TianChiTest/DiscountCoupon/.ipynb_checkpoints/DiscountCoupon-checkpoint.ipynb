{
 "cells": [
  {
   "cell_type": "code",
   "execution_count": 1,
   "metadata": {},
   "outputs": [],
   "source": [
    "import numpy as np\n",
    "import pandas as pd\n",
    "import matplotlib.pyplot as plt\n",
    "import seaborn as sns\n",
    "from sklearn.linear_model import LogisticRegression\n",
    "from sklearn.neighbors import KNeighborsClassifier\n",
    "from datetime import datetime\n",
    "from sklearn.model_selection import cross_val_score,train_test_split\n",
    "import azureml.core\n",
    "from azureml.core.workspace import Workspace\n",
    "from azureml.core import Experiment \n"
   ]
  },
  {
   "cell_type": "code",
   "execution_count": 4,
   "metadata": {},
   "outputs": [],
   "source": [
    "# ws = Workspace.create(name='salary',  \n",
    "# subscription_id='',  \n",
    "# resource_group='mi2',  \n",
    "# create_resource_group=True,  \n",
    "# location='southeastasia'  \n",
    "# )  "
   ]
  },
  {
   "cell_type": "code",
   "execution_count": null,
   "metadata": {},
   "outputs": [],
   "source": [
    "# exp = Experiment(workspace=ws, name='salexp')  \n",
    "# run = exp.start_logging()  \n",
    "# run.log(\"Experiment start time\", str(datetime.datetime.now()))  "
   ]
  },
  {
   "cell_type": "markdown",
   "metadata": {},
   "source": [
    "## 导入数据"
   ]
  },
  {
   "cell_type": "code",
   "execution_count": 11,
   "metadata": {},
   "outputs": [],
   "source": [
    "train_off = pd.read_csv(\"data/ccf_offline_stage1_train.csv\")\n",
    "# train_on = pd.read_csv(\"data/ccf_online_stage1_train.csv\")\n",
    "pred_data = pd.read_csv(\"data/ccf_offline_stage1_test_revised.csv\")\n",
    "\n",
    "# 1.User_id.用户id\n",
    "# 2.Merchant_id.商户id\n",
    "# 3.Coupon_id.优惠券id\n",
    "# 4.Distance.用户经常活动区域离最近门店距离（单位0.5公里）\n",
    "# 5.Date_received.领券日期yyyymmdd\n",
    "\n",
    "# 6.Date.用券日期\n"
   ]
  },
  {
   "cell_type": "code",
   "execution_count": 30,
   "metadata": {},
   "outputs": [],
   "source": [
    "train_offline = train_off.copy(deep=True)\n",
    "# train_online = train_on.copy(deep=True)\n",
    "pred_copy = pred_data.copy(deep=True)"
   ]
  },
  {
   "cell_type": "markdown",
   "metadata": {},
   "source": [
    "## 自定义函数"
   ]
  },
  {
   "cell_type": "code",
   "execution_count": 31,
   "metadata": {},
   "outputs": [],
   "source": [
    "# 把满减x:y数据转为[0,1]折扣\n",
    "def moneyOff2Rate(mf):\n",
    "    if \":\" in mf:\n",
    "        discount = mf.split(\":\")\n",
    "#     print(\"{}{}\".format(discount[0],discount[1]))\n",
    "        rate = 1 - float(discount[1])/float(discount[0])\n",
    "        return float('%.2f'%rate)\n",
    "    else:\n",
    "        return float(mf)\n",
    "# 从日期中提取月份\n",
    "def dateToMonth(date):\n",
    "    d = datetime.strptime(str(int(date)), '%Y%m%d')\n",
    "    return d.month\n",
    "# 统计用户出现的频次\n",
    "def getUserFrequency(userSeries):\n",
    "    s = userSeries.value_counts()\n",
    "    m = {}\n",
    "    for v in s.index:\n",
    "        m[v] = s[v]\n",
    "    return m\n",
    "\n",
    "# 交叉验证\n",
    "def crossVal(model,X,y):\n",
    "    score = cross_val_score(model, X_train, y_train, scoring=\"accuracy\", cv = 5)\n",
    "    return (score)"
   ]
  },
  {
   "cell_type": "markdown",
   "metadata": {},
   "source": [
    "## 数据预处理"
   ]
  },
  {
   "cell_type": "code",
   "execution_count": 32,
   "metadata": {},
   "outputs": [],
   "source": [
    "# 1.优惠券未使用：Date=null & Coupon_id != null\n",
    "# 2.普通消费：Date!=null & Coupon_id = null    （这部分数据虽然和优惠券无直接关系，但是可以体现用户的消费能力）\n",
    "# 3.优惠券已使用：Date!=null & Coupon_id != null\n",
    "\n",
    "# 为训练数据生成label。\n",
    "# 因为训练集中没有明确的label，需要根据提示生成label：优惠券被使用（1）；优惠券未被使用（0）\n",
    "\n",
    "train_offline.loc[train_offline[\"Date\"].isnull() & train_offline[\"Coupon_id\"].notnull(),\"isUsed\"] = 0\n",
    "train_offline.loc[train_offline[\"Date\"].notnull() & train_offline[\"Coupon_id\"].notnull(),\"isUsed\"] = 1\n",
    "\n",
    "# 由于训练数据量远大于预测数据\n",
    "# 对每个用户领取优惠券的次数进行统计\n",
    "frequencyTi = getUserFrequency(train_offline[\"User_id\"])\n",
    "maxQuantity = frequencyTi[max(frequencyTi,key=frequencyTi.get)]\n",
    "\n",
    "# 对每个用户消费次数进行统计（不含用券消费）\n",
    "frequencyBuy = getUserFrequency(train_offline[(train_offline[\"Date\"].notnull()) & (train_offline[\"Coupon_id\"].isnull())][\"User_id\"])\n",
    "# 取最大值\n",
    "maxPuPower = frequencyBuy[max(frequencyBuy,key=frequencyBuy.get)]\n",
    "# 删除单纯消费数据\n",
    "train_offline.drop(train_offline[train_offline[\"Date\"].notnull() & train_offline[\"Coupon_id\"].isnull()].index,inplace=True)"
   ]
  },
  {
   "cell_type": "code",
   "execution_count": 33,
   "metadata": {
    "scrolled": false
   },
   "outputs": [],
   "source": [
    "# train_offline[\"PuPower\"].head(15)\n"
   ]
  },
  {
   "cell_type": "code",
   "execution_count": 34,
   "metadata": {},
   "outputs": [],
   "source": [
    "# 对训练数据和测试数据做预处理\n",
    "combine = [train_offline,pred_copy]"
   ]
  },
  {
   "cell_type": "code",
   "execution_count": 35,
   "metadata": {},
   "outputs": [],
   "source": [
    "for dataset in combine:\n",
    "    # ①处理Discount_rate，把数据统一为[0,1]\n",
    "    # 1.NaN -> 取median，\n",
    "    # 2.[0,1]的，不做处理\n",
    "    # 3.x:y的，(x-y)/x\n",
    "\n",
    "    # train_offline.drop(train_offline[train_offline[\"Discount_rate\"].isnull()].index,inplace=True)\n",
    "\n",
    "    # 把满减转为[0,1]比率\n",
    "    dataset[\"Discount_rate\"] = dataset[\"Discount_rate\"].apply(moneyOff2Rate)\n",
    "    # NaN -> 最大值\n",
    "    dataset.loc[dataset[\"Discount_rate\"].isnull(),\"Discount_rate\"] = dataset[\"Discount_rate\"].median()\n",
    "    \n",
    "    # ②处理Distance\n",
    "    # NaN -> 0\n",
    "    dataset.loc[dataset[dataset[\"Distance\"].isnull()].index,\"Distance\"] = 0\n",
    "    \n",
    "    # ③添加新字段。根据用户领取优惠券次数，把次数分为5个等级。用户领券次数和是否用券可能有关系\n",
    "    dataset[\"Quantity\"] = dataset[\"User_id\"].map(frequencyTi)\n",
    "    \n",
    "    dataset.loc[dataset[\"Quantity\"] == 1,\"Quantity\"] = 0\n",
    "    dataset.loc[(dataset[\"Quantity\"] > 1) & (dataset[\"Quantity\"] <= maxQuantity/4),\"Quantity\"] = 1\n",
    "    dataset.loc[(dataset[\"Quantity\"] > maxQuantity/4) & (dataset[\"Quantity\"] <= maxQuantity/2),\"Quantity\"] = 2\n",
    "    dataset.loc[(dataset[\"Quantity\"] > maxQuantity/2) & (dataset[\"Quantity\"] <= maxQuantity/4 * 3),\"Quantity\"] = 3\n",
    "    dataset.loc[(dataset[\"Quantity\"] > maxQuantity/4 * 3) & (dataset[\"Quantity\"] <= maxQuantity),\"Quantity\"] = 4\n",
    "    # ④处理Date_received\n",
    "    # 优惠券领取时间可能和是否用券有关，这里取“月份”来替换原来的值\n",
    "    dataset[\"Date_received\"] = dataset[\"Date_received\"].apply(dateToMonth)\n",
    "    \n",
    "    # ⑤添加新字段。根据用户消费次数，把次数分为5个等级。NaN -> 0\n",
    "    # 由于测试数据中没有单纯消费数据，以训练集为标准\n",
    "    dataset[\"PuPower\"] = dataset[\"User_id\"].map(frequencyBuy)\n",
    "    dataset.loc[dataset[\"PuPower\"].isnull(),\"PuPower\"] = 0\n",
    "    dataset.loc[(dataset[\"PuPower\"] > 1) & (dataset[\"PuPower\"] <= maxPuPower/3),\"PuPower\"] = 2\n",
    "    dataset.loc[(dataset[\"PuPower\"] > maxPuPower/3) & (dataset[\"PuPower\"] <= maxPuPower/3*2),\"PuPower\"] = 3\n",
    "    dataset.loc[(dataset[\"PuPower\"] > maxPuPower/3*2) & (dataset[\"PuPower\"] <= maxPuPower),\"PuPower\"] = 4\n",
    "    \n",
    "# 删除不用的和临时的column\n",
    "X_train = train_offline.drop(train_offline[[\"User_id\",\"Merchant_id\",\"Coupon_id\",\"Date\",\"isUsed\"]],axis=1)\n",
    "y_train = train_offline[\"isUsed\"]\n",
    "X_pred = pred_copy.drop(pred_copy[[\"User_id\",\"Merchant_id\",\"Coupon_id\"]],axis=1)"
   ]
  },
  {
   "cell_type": "code",
   "execution_count": 10,
   "metadata": {
    "scrolled": true
   },
   "outputs": [
    {
     "data": {
      "text/plain": [
       "4.0"
      ]
     },
     "execution_count": 10,
     "metadata": {},
     "output_type": "execute_result"
    }
   ],
   "source": [
    "# X_train[\"PuPower\"].value_counts()\n",
    "N = StandardScaler()\n",
    "\n"
   ]
  },
  {
   "cell_type": "code",
   "execution_count": 36,
   "metadata": {},
   "outputs": [
    {
     "data": {
      "text/html": [
       "<div>\n",
       "<style scoped>\n",
       "    .dataframe tbody tr th:only-of-type {\n",
       "        vertical-align: middle;\n",
       "    }\n",
       "\n",
       "    .dataframe tbody tr th {\n",
       "        vertical-align: top;\n",
       "    }\n",
       "\n",
       "    .dataframe thead th {\n",
       "        text-align: right;\n",
       "    }\n",
       "</style>\n",
       "<table border=\"1\" class=\"dataframe\">\n",
       "  <thead>\n",
       "    <tr style=\"text-align: right;\">\n",
       "      <th></th>\n",
       "      <th>Discount_rate</th>\n",
       "      <th>Distance</th>\n",
       "      <th>Date_received</th>\n",
       "      <th>Quantity</th>\n",
       "      <th>PuPower</th>\n",
       "    </tr>\n",
       "  </thead>\n",
       "  <tbody>\n",
       "    <tr>\n",
       "      <th>1</th>\n",
       "      <td>0.87</td>\n",
       "      <td>1.0</td>\n",
       "      <td>5</td>\n",
       "      <td>1</td>\n",
       "      <td>2.0</td>\n",
       "    </tr>\n",
       "    <tr>\n",
       "      <th>2</th>\n",
       "      <td>0.95</td>\n",
       "      <td>0.0</td>\n",
       "      <td>2</td>\n",
       "      <td>1</td>\n",
       "      <td>2.0</td>\n",
       "    </tr>\n",
       "    <tr>\n",
       "      <th>3</th>\n",
       "      <td>0.95</td>\n",
       "      <td>0.0</td>\n",
       "      <td>3</td>\n",
       "      <td>1</td>\n",
       "      <td>2.0</td>\n",
       "    </tr>\n",
       "    <tr>\n",
       "      <th>4</th>\n",
       "      <td>0.95</td>\n",
       "      <td>0.0</td>\n",
       "      <td>6</td>\n",
       "      <td>1</td>\n",
       "      <td>2.0</td>\n",
       "    </tr>\n",
       "    <tr>\n",
       "      <th>6</th>\n",
       "      <td>0.95</td>\n",
       "      <td>0.0</td>\n",
       "      <td>5</td>\n",
       "      <td>1</td>\n",
       "      <td>2.0</td>\n",
       "    </tr>\n",
       "  </tbody>\n",
       "</table>\n",
       "</div>"
      ],
      "text/plain": [
       "   Discount_rate  Distance  Date_received  Quantity  PuPower\n",
       "1           0.87       1.0              5         1      2.0\n",
       "2           0.95       0.0              2         1      2.0\n",
       "3           0.95       0.0              3         1      2.0\n",
       "4           0.95       0.0              6         1      2.0\n",
       "6           0.95       0.0              5         1      2.0"
      ]
     },
     "execution_count": 36,
     "metadata": {},
     "output_type": "execute_result"
    }
   ],
   "source": [
    "X_train.head()"
   ]
  },
  {
   "cell_type": "markdown",
   "metadata": {},
   "source": [
    "## 图表"
   ]
  },
  {
   "cell_type": "code",
   "execution_count": 40,
   "metadata": {
    "scrolled": false
   },
   "outputs": [
    {
     "data": {
      "text/plain": [
       "<seaborn.axisgrid.FacetGrid at 0x2dc97848d30>"
      ]
     },
     "execution_count": 40,
     "metadata": {},
     "output_type": "execute_result"
    },
    {
     "data": {
      "image/png": "[encoded data removed]",
      "text/plain": [
       "<Figure size 432x216 with 2 Axes>"
      ]
     },
     "metadata": {
      "needs_background": "light"
     },
     "output_type": "display_data"
    }
   ],
   "source": [
    "g = sns.FacetGrid(train_offline,col=\"isUsed\")\n",
    "g.map(plt.hist, 'PuPower', alpha=.5)\n",
    "\n",
    "# plt.hist(X_test[\"PuPower\"])\n"
   ]
  },
  {
   "cell_type": "markdown",
   "metadata": {},
   "source": [
    "## 训练"
   ]
  },
  {
   "cell_type": "code",
   "execution_count": 19,
   "metadata": {},
   "outputs": [],
   "source": [
    "# 进行交叉验证\n",
    "# X_train,X_test,y_train,y_test = train_test_split(X_train,y_train,random_state=0)"
   ]
  },
  {
   "cell_type": "code",
   "execution_count": 37,
   "metadata": {},
   "outputs": [
    {
     "data": {
      "text/plain": [
       "LogisticRegression(C=1.0, class_weight=None, dual=False, fit_intercept=True,\n",
       "          intercept_scaling=1, max_iter=100, multi_class='warn',\n",
       "          n_jobs=None, penalty='l2', random_state=None, solver='liblinear',\n",
       "          tol=0.0001, verbose=0, warm_start=False)"
      ]
     },
     "execution_count": 37,
     "metadata": {},
     "output_type": "execute_result"
    }
   ],
   "source": [
    "lr = LogisticRegression(solver='liblinear')\n",
    "lr.fit(X_train,y_train)\n",
    "\n",
    "# pred = lr.predict_proba(X_pred)"
   ]
  },
  {
   "cell_type": "code",
   "execution_count": 21,
   "metadata": {
    "scrolled": true
   },
   "outputs": [],
   "source": [
    "# score = crossVal(lr,X_train,y_train)"
   ]
  },
  {
   "cell_type": "code",
   "execution_count": 39,
   "metadata": {},
   "outputs": [
    {
     "data": {
      "text/plain": [
       "0.9284075869520223"
      ]
     },
     "execution_count": 39,
     "metadata": {},
     "output_type": "execute_result"
    }
   ],
   "source": [
    "lr.score(X_train,y_train)"
   ]
  },
  {
   "cell_type": "markdown",
   "metadata": {},
   "source": [
    "## 提交"
   ]
  },
  {
   "cell_type": "code",
   "execution_count": 45,
   "metadata": {
    "scrolled": true
   },
   "outputs": [],
   "source": [
    "# 合并需要提交的数据\n",
    "submission = pd.concat([test[\"User_id\"],test[\"Coupon_id\"],test[\"Date_received\"],pd.Series(pred[:,1])],axis=1)\n",
    "# 概率取小数点后两位\n",
    "submission[0] = submission[0].round(2)"
   ]
  },
  {
   "cell_type": "code",
   "execution_count": 46,
   "metadata": {},
   "outputs": [],
   "source": [
    "# submission.head()\n",
    "submission.to_csv(\"result/submission.csv\",index=None,header=None)"
   ]
  },
  {
   "cell_type": "code",
   "execution_count": 47,
   "metadata": {},
   "outputs": [
    {
     "data": {
      "text/html": [
       "<div>\n",
       "<style scoped>\n",
       "    .dataframe tbody tr th:only-of-type {\n",
       "        vertical-align: middle;\n",
       "    }\n",
       "\n",
       "    .dataframe tbody tr th {\n",
       "        vertical-align: top;\n",
       "    }\n",
       "\n",
       "    .dataframe thead th {\n",
       "        text-align: right;\n",
       "    }\n",
       "</style>\n",
       "<table border=\"1\" class=\"dataframe\">\n",
       "  <thead>\n",
       "    <tr style=\"text-align: right;\">\n",
       "      <th></th>\n",
       "      <th>User_id</th>\n",
       "      <th>Coupon_id</th>\n",
       "      <th>Date_received</th>\n",
       "      <th>0</th>\n",
       "    </tr>\n",
       "  </thead>\n",
       "  <tbody>\n",
       "    <tr>\n",
       "      <th>0</th>\n",
       "      <td>4129537</td>\n",
       "      <td>9983</td>\n",
       "      <td>20160712</td>\n",
       "      <td>0.03</td>\n",
       "    </tr>\n",
       "    <tr>\n",
       "      <th>1</th>\n",
       "      <td>6949378</td>\n",
       "      <td>3429</td>\n",
       "      <td>20160706</td>\n",
       "      <td>0.08</td>\n",
       "    </tr>\n",
       "    <tr>\n",
       "      <th>2</th>\n",
       "      <td>2166529</td>\n",
       "      <td>6928</td>\n",
       "      <td>20160727</td>\n",
       "      <td>0.02</td>\n",
       "    </tr>\n",
       "    <tr>\n",
       "      <th>3</th>\n",
       "      <td>2166529</td>\n",
       "      <td>1808</td>\n",
       "      <td>20160727</td>\n",
       "      <td>0.02</td>\n",
       "    </tr>\n",
       "    <tr>\n",
       "      <th>4</th>\n",
       "      <td>6172162</td>\n",
       "      <td>6500</td>\n",
       "      <td>20160708</td>\n",
       "      <td>0.10</td>\n",
       "    </tr>\n",
       "  </tbody>\n",
       "</table>\n",
       "</div>"
      ],
      "text/plain": [
       "   User_id  Coupon_id  Date_received     0\n",
       "0  4129537       9983       20160712  0.03\n",
       "1  6949378       3429       20160706  0.08\n",
       "2  2166529       6928       20160727  0.02\n",
       "3  2166529       1808       20160727  0.02\n",
       "4  6172162       6500       20160708  0.10"
      ]
     },
     "execution_count": 47,
     "metadata": {},
     "output_type": "execute_result"
    }
   ],
   "source": [
    "submission.head()"
   ]
  },
  {
   "cell_type": "code",
   "execution_count": null,
   "metadata": {},
   "outputs": [],
   "source": []
  }
 ],
 "metadata": {
  "kernelspec": {
   "display_name": "Python 3",
   "language": "python",
   "name": "python3"
  },
  "language_info": {
   "codemirror_mode": {
    "name": "ipython",
    "version": 3
   },
   "file_extension": ".py",
   "mimetype": "text/x-python",
   "name": "python",
   "nbconvert_exporter": "python",
   "pygments_lexer": "ipython3",
   "version": "3.7.1"
  }
 },
 "nbformat": 4,
 "nbformat_minor": 2
}
